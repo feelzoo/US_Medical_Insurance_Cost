{
 "cells": [
  {
   "cell_type": "markdown",
   "metadata": {},
   "source": [
    "# US Medical Insurance Cost\n",
    "\n",
    "In this project, a **CSV** file with medical insurance costs will be investigated using Python fundamentals and ML algorithims. My goal is to find an effective model to predict the insurance costs by using various attributes of isurance policyholders. "
   ]
  },
  {
   "cell_type": "code",
   "execution_count": 160,
   "metadata": {},
   "outputs": [],
   "source": [
    "import pandas as pd\n",
    "import numpy as np\n",
    "from matplotlib import pyplot as plt\n",
    "from sklearn.linear_model import LinearRegression\n",
    "from sklearn.model_selection import train_test_split\n",
    "from sklearn.preprocessing import StandardScaler\n",
    "from sklearn.linear_model import LogisticRegression\n",
    "import statsmodels.api as sm\n",
    "import seaborn as sns"
   ]
  },
  {
   "cell_type": "markdown",
   "metadata": {},
   "source": [
    "# Dataset and Predictors\n"
   ]
  },
  {
   "cell_type": "code",
   "execution_count": 163,
   "metadata": {},
   "outputs": [],
   "source": [
    "#Load data into a dataframe\n",
    "insurance = pd.read_csv('insurance.csv')"
   ]
  },
  {
   "cell_type": "code",
   "execution_count": 164,
   "metadata": {
    "scrolled": false
   },
   "outputs": [
    {
     "data": {
      "text/html": [
       "<div>\n",
       "<style scoped>\n",
       "    .dataframe tbody tr th:only-of-type {\n",
       "        vertical-align: middle;\n",
       "    }\n",
       "\n",
       "    .dataframe tbody tr th {\n",
       "        vertical-align: top;\n",
       "    }\n",
       "\n",
       "    .dataframe thead th {\n",
       "        text-align: right;\n",
       "    }\n",
       "</style>\n",
       "<table border=\"1\" class=\"dataframe\">\n",
       "  <thead>\n",
       "    <tr style=\"text-align: right;\">\n",
       "      <th></th>\n",
       "      <th>age</th>\n",
       "      <th>sex</th>\n",
       "      <th>bmi</th>\n",
       "      <th>children</th>\n",
       "      <th>smoker</th>\n",
       "      <th>region</th>\n",
       "      <th>charges</th>\n",
       "    </tr>\n",
       "  </thead>\n",
       "  <tbody>\n",
       "    <tr>\n",
       "      <td>0</td>\n",
       "      <td>19</td>\n",
       "      <td>female</td>\n",
       "      <td>27.900</td>\n",
       "      <td>0</td>\n",
       "      <td>yes</td>\n",
       "      <td>southwest</td>\n",
       "      <td>16884.92400</td>\n",
       "    </tr>\n",
       "    <tr>\n",
       "      <td>1</td>\n",
       "      <td>18</td>\n",
       "      <td>male</td>\n",
       "      <td>33.770</td>\n",
       "      <td>1</td>\n",
       "      <td>no</td>\n",
       "      <td>southeast</td>\n",
       "      <td>1725.55230</td>\n",
       "    </tr>\n",
       "    <tr>\n",
       "      <td>2</td>\n",
       "      <td>28</td>\n",
       "      <td>male</td>\n",
       "      <td>33.000</td>\n",
       "      <td>3</td>\n",
       "      <td>no</td>\n",
       "      <td>southeast</td>\n",
       "      <td>4449.46200</td>\n",
       "    </tr>\n",
       "    <tr>\n",
       "      <td>3</td>\n",
       "      <td>33</td>\n",
       "      <td>male</td>\n",
       "      <td>22.705</td>\n",
       "      <td>0</td>\n",
       "      <td>no</td>\n",
       "      <td>northwest</td>\n",
       "      <td>21984.47061</td>\n",
       "    </tr>\n",
       "    <tr>\n",
       "      <td>4</td>\n",
       "      <td>32</td>\n",
       "      <td>male</td>\n",
       "      <td>28.880</td>\n",
       "      <td>0</td>\n",
       "      <td>no</td>\n",
       "      <td>northwest</td>\n",
       "      <td>3866.85520</td>\n",
       "    </tr>\n",
       "  </tbody>\n",
       "</table>\n",
       "</div>"
      ],
      "text/plain": [
       "   age     sex     bmi  children smoker     region      charges\n",
       "0   19  female  27.900         0    yes  southwest  16884.92400\n",
       "1   18    male  33.770         1     no  southeast   1725.55230\n",
       "2   28    male  33.000         3     no  southeast   4449.46200\n",
       "3   33    male  22.705         0     no  northwest  21984.47061\n",
       "4   32    male  28.880         0     no  northwest   3866.85520"
      ]
     },
     "execution_count": 164,
     "metadata": {},
     "output_type": "execute_result"
    }
   ],
   "source": [
    "#check the head of dataframe\n",
    "insurance.head()"
   ]
  },
  {
   "cell_type": "markdown",
   "metadata": {},
   "source": [
    "6 data fields about insurance policyholders as below \n",
    "* age: policyholder's age / integer variable\n",
    "* sex: policyholder's sex / string variable\n",
    "* bmi: policyholder's Body Mass Index / float variable - BMI is used for defining a person's weight category (normal weight, overweight, obese) \n",
    "* children: the number of children a policyholder has / integer variable\n",
    "* smoker: policyholder smoking or not / string variable\n",
    "* region: a region where a policyholder lives / string variable \n",
    "* charges: amount of charges a policyholder pays / float variable"
   ]
  },
  {
   "cell_type": "code",
   "execution_count": 173,
   "metadata": {},
   "outputs": [
    {
     "name": "stdout",
     "output_type": "stream",
     "text": [
      "<class 'pandas.core.frame.DataFrame'>\n",
      "RangeIndex: 1338 entries, 0 to 1337\n",
      "Data columns (total 7 columns):\n",
      "age         1338 non-null int64\n",
      "sex         1338 non-null object\n",
      "bmi         1338 non-null float64\n",
      "children    1338 non-null int64\n",
      "smoker      1338 non-null object\n",
      "region      1338 non-null object\n",
      "charges     1338 non-null float64\n",
      "dtypes: float64(2), int64(2), object(3)\n",
      "memory usage: 73.3+ KB\n"
     ]
    }
   ],
   "source": [
    "insurance.info()"
   ]
  },
  {
   "cell_type": "code",
   "execution_count": 174,
   "metadata": {},
   "outputs": [
    {
     "data": {
      "text/plain": [
       "age         0\n",
       "sex         0\n",
       "bmi         0\n",
       "children    0\n",
       "smoker      0\n",
       "region      0\n",
       "charges     0\n",
       "dtype: int64"
      ]
     },
     "execution_count": 174,
     "metadata": {},
     "output_type": "execute_result"
    }
   ],
   "source": [
    "#Detect missing values\n",
    "insurance.isna().sum()"
   ]
  },
  {
   "cell_type": "markdown",
   "metadata": {},
   "source": [
    "I will start with all columns that I have and eliminate any columns that have least statistical significance.  "
   ]
  },
  {
   "cell_type": "code",
   "execution_count": 175,
   "metadata": {},
   "outputs": [],
   "source": [
    "#Select my predictos\n",
    "x = insurance [['age', 'sex', 'bmi', 'children', 'smoker', 'region']]"
   ]
  },
  {
   "cell_type": "code",
   "execution_count": 176,
   "metadata": {},
   "outputs": [],
   "source": [
    "#Select my response\n",
    "y= insurance['charges']"
   ]
  },
  {
   "cell_type": "markdown",
   "metadata": {},
   "source": [
    "As shown in the above data field introduction, the following columns: sex,smoker,region contain string variables. <br> Mulitple linear regression model is algebraic where all of your inputs have to be numeric. Thus, I will transform these categorical variables into numerical variables. \n",
    "\n",
    "\n",
    "1. sex - transform this into binary variable\n",
    "0: male 1:female"
   ]
  },
  {
   "cell_type": "code",
   "execution_count": 177,
   "metadata": {
    "scrolled": false
   },
   "outputs": [],
   "source": [
    "x['sex_n'] = x['sex'].map({'male':0,'female':1})"
   ]
  },
  {
   "cell_type": "markdown",
   "metadata": {},
   "source": [
    "2. smoker - 0: no 1: yes "
   ]
  },
  {
   "cell_type": "code",
   "execution_count": 178,
   "metadata": {
    "scrolled": true
   },
   "outputs": [],
   "source": [
    "x['smoker_n'] = x['smoker'].map({'yes':1,'no':0})"
   ]
  },
  {
   "cell_type": "markdown",
   "metadata": {},
   "source": [
    "3. region"
   ]
  },
  {
   "cell_type": "code",
   "execution_count": 182,
   "metadata": {
    "scrolled": false
   },
   "outputs": [
    {
     "data": {
      "text/plain": [
       "southeast    364\n",
       "southwest    325\n",
       "northwest    325\n",
       "northeast    324\n",
       "Name: region, dtype: int64"
      ]
     },
     "execution_count": 182,
     "metadata": {},
     "output_type": "execute_result"
    }
   ],
   "source": [
    "#Checking the number of levels for the column:region\n",
    "x.region.value_counts()"
   ]
  },
  {
   "cell_type": "markdown",
   "metadata": {},
   "source": [
    "There are 4 levels for 'region'. One can think of assigning numerical labels to these regions, but these regions don't have intrinsic ordering between them. For example. value 3 (northeast) is not greater than value 1(southwest).\n",
    "\n",
    "Thus, I will create dummy variables. One-hot ecoding scheme is applied to tranform this variable into 4 binary variables. "
   ]
  },
  {
   "cell_type": "code",
   "execution_count": null,
   "metadata": {},
   "outputs": [],
   "source": []
  },
  {
   "cell_type": "code",
   "execution_count": null,
   "metadata": {},
   "outputs": [],
   "source": []
  },
  {
   "cell_type": "code",
   "execution_count": null,
   "metadata": {},
   "outputs": [],
   "source": []
  },
  {
   "cell_type": "code",
   "execution_count": null,
   "metadata": {},
   "outputs": [],
   "source": []
  },
  {
   "cell_type": "code",
   "execution_count": 138,
   "metadata": {},
   "outputs": [
    {
     "data": {
      "text/plain": [
       "0    1013\n",
       "1     325\n",
       "Name: southwest, dtype: int64"
      ]
     },
     "execution_count": 138,
     "metadata": {},
     "output_type": "execute_result"
    }
   ],
   "source": [
    "x.southwest.value_counts()"
   ]
  },
  {
   "cell_type": "code",
   "execution_count": 139,
   "metadata": {},
   "outputs": [
    {
     "data": {
      "text/plain": [
       "0    1013\n",
       "1     325\n",
       "Name: northwest, dtype: int64"
      ]
     },
     "execution_count": 139,
     "metadata": {},
     "output_type": "execute_result"
    }
   ],
   "source": [
    "x.northwest.value_counts()"
   ]
  },
  {
   "cell_type": "code",
   "execution_count": 140,
   "metadata": {
    "scrolled": true
   },
   "outputs": [
    {
     "data": {
      "text/plain": [
       "0    974\n",
       "1    364\n",
       "Name: southeast, dtype: int64"
      ]
     },
     "execution_count": 140,
     "metadata": {},
     "output_type": "execute_result"
    }
   ],
   "source": [
    "x.southeast.value_counts()"
   ]
  },
  {
   "cell_type": "markdown",
   "metadata": {},
   "source": [
    "I need to re-select the predictors"
   ]
  },
  {
   "cell_type": "code",
   "execution_count": 141,
   "metadata": {},
   "outputs": [],
   "source": [
    "x= x[['age', 'sex_n', 'bmi', 'children', 'smoker_n', 'southeast','northwest','southwest']]"
   ]
  },
  {
   "cell_type": "markdown",
   "metadata": {},
   "source": [
    "I will use statsmodels regression to pull of the p-values of each predictor - I wanted to be consistent by using Scikit-learn to find the p-values but many from my google search recommended to use statsmodel. I'm wondering if I'm being reasonable to use statsmodel to find my predictors' statistical signifance and go back to scikit learn to train and test my data to see if my model is effective. "
   ]
  },
  {
   "cell_type": "code",
   "execution_count": 142,
   "metadata": {},
   "outputs": [],
   "source": [
    "model = sm.OLS(y,x)"
   ]
  },
  {
   "cell_type": "code",
   "execution_count": 143,
   "metadata": {},
   "outputs": [],
   "source": [
    "fit_model = model.fit()"
   ]
  },
  {
   "cell_type": "code",
   "execution_count": 144,
   "metadata": {
    "scrolled": true
   },
   "outputs": [
    {
     "data": {
      "text/html": [
       "<table class=\"simpletable\">\n",
       "<caption>OLS Regression Results</caption>\n",
       "<tr>\n",
       "  <th>Dep. Variable:</th>         <td>charges</td>     <th>  R-squared (uncentered):</th>      <td>   0.874</td> \n",
       "</tr>\n",
       "<tr>\n",
       "  <th>Model:</th>                   <td>OLS</td>       <th>  Adj. R-squared (uncentered):</th> <td>   0.874</td> \n",
       "</tr>\n",
       "<tr>\n",
       "  <th>Method:</th>             <td>Least Squares</td>  <th>  F-statistic:       </th>          <td>   1158.</td> \n",
       "</tr>\n",
       "<tr>\n",
       "  <th>Date:</th>             <td>Wed, 18 Nov 2020</td> <th>  Prob (F-statistic):</th>           <td>  0.00</td>  \n",
       "</tr>\n",
       "<tr>\n",
       "  <th>Time:</th>                 <td>20:32:19</td>     <th>  Log-Likelihood:    </th>          <td> -13617.</td> \n",
       "</tr>\n",
       "<tr>\n",
       "  <th>No. Observations:</th>      <td>  1338</td>      <th>  AIC:               </th>          <td>2.725e+04</td>\n",
       "</tr>\n",
       "<tr>\n",
       "  <th>Df Residuals:</th>          <td>  1330</td>      <th>  BIC:               </th>          <td>2.729e+04</td>\n",
       "</tr>\n",
       "<tr>\n",
       "  <th>Df Model:</th>              <td>     8</td>      <th>                     </th>              <td> </td>    \n",
       "</tr>\n",
       "<tr>\n",
       "  <th>Covariance Type:</th>      <td>nonrobust</td>    <th>                     </th>              <td> </td>    \n",
       "</tr>\n",
       "</table>\n",
       "<table class=\"simpletable\">\n",
       "<tr>\n",
       "      <td></td>         <th>coef</th>     <th>std err</th>      <th>t</th>      <th>P>|t|</th>  <th>[0.025</th>    <th>0.975]</th>  \n",
       "</tr>\n",
       "<tr>\n",
       "  <th>age</th>       <td>  204.8859</td> <td>   11.681</td> <td>   17.540</td> <td> 0.000</td> <td>  181.970</td> <td>  227.802</td>\n",
       "</tr>\n",
       "<tr>\n",
       "  <th>sex_n</th>     <td> -680.1347</td> <td>  343.383</td> <td>   -1.981</td> <td> 0.048</td> <td>-1353.766</td> <td>   -6.504</td>\n",
       "</tr>\n",
       "<tr>\n",
       "  <th>bmi</th>       <td>   67.3454</td> <td>   18.570</td> <td>    3.626</td> <td> 0.000</td> <td>   30.915</td> <td>  103.776</td>\n",
       "</tr>\n",
       "<tr>\n",
       "  <th>children</th>  <td>  281.9133</td> <td>  144.126</td> <td>    1.956</td> <td> 0.051</td> <td>   -0.825</td> <td>  564.651</td>\n",
       "</tr>\n",
       "<tr>\n",
       "  <th>smoker_n</th>  <td> 2.326e+04</td> <td>  431.979</td> <td>   53.836</td> <td> 0.000</td> <td> 2.24e+04</td> <td> 2.41e+04</td>\n",
       "</tr>\n",
       "<tr>\n",
       "  <th>southeast</th> <td>-1271.9588</td> <td>  503.651</td> <td>   -2.525</td> <td> 0.012</td> <td>-2259.995</td> <td> -283.922</td>\n",
       "</tr>\n",
       "<tr>\n",
       "  <th>northwest</th> <td>-1710.4123</td> <td>  487.357</td> <td>   -3.510</td> <td> 0.000</td> <td>-2666.484</td> <td> -754.341</td>\n",
       "</tr>\n",
       "<tr>\n",
       "  <th>southwest</th> <td>-1930.5262</td> <td>  496.107</td> <td>   -3.891</td> <td> 0.000</td> <td>-2903.763</td> <td> -957.289</td>\n",
       "</tr>\n",
       "</table>\n",
       "<table class=\"simpletable\">\n",
       "<tr>\n",
       "  <th>Omnibus:</th>       <td>279.847</td> <th>  Durbin-Watson:     </th> <td>   2.066</td> \n",
       "</tr>\n",
       "<tr>\n",
       "  <th>Prob(Omnibus):</th> <td> 0.000</td>  <th>  Jarque-Bera (JB):  </th> <td> 659.841</td> \n",
       "</tr>\n",
       "<tr>\n",
       "  <th>Skew:</th>          <td> 1.137</td>  <th>  Prob(JB):          </th> <td>5.22e-144</td>\n",
       "</tr>\n",
       "<tr>\n",
       "  <th>Kurtosis:</th>      <td> 5.581</td>  <th>  Cond. No.          </th> <td>    206.</td> \n",
       "</tr>\n",
       "</table><br/><br/>Warnings:<br/>[1] Standard Errors assume that the covariance matrix of the errors is correctly specified."
      ],
      "text/plain": [
       "<class 'statsmodels.iolib.summary.Summary'>\n",
       "\"\"\"\n",
       "                                 OLS Regression Results                                \n",
       "=======================================================================================\n",
       "Dep. Variable:                charges   R-squared (uncentered):                   0.874\n",
       "Model:                            OLS   Adj. R-squared (uncentered):              0.874\n",
       "Method:                 Least Squares   F-statistic:                              1158.\n",
       "Date:                Wed, 18 Nov 2020   Prob (F-statistic):                        0.00\n",
       "Time:                        20:32:19   Log-Likelihood:                         -13617.\n",
       "No. Observations:                1338   AIC:                                  2.725e+04\n",
       "Df Residuals:                    1330   BIC:                                  2.729e+04\n",
       "Df Model:                           8                                                  \n",
       "Covariance Type:            nonrobust                                                  \n",
       "==============================================================================\n",
       "                 coef    std err          t      P>|t|      [0.025      0.975]\n",
       "------------------------------------------------------------------------------\n",
       "age          204.8859     11.681     17.540      0.000     181.970     227.802\n",
       "sex_n       -680.1347    343.383     -1.981      0.048   -1353.766      -6.504\n",
       "bmi           67.3454     18.570      3.626      0.000      30.915     103.776\n",
       "children     281.9133    144.126      1.956      0.051      -0.825     564.651\n",
       "smoker_n    2.326e+04    431.979     53.836      0.000    2.24e+04    2.41e+04\n",
       "southeast  -1271.9588    503.651     -2.525      0.012   -2259.995    -283.922\n",
       "northwest  -1710.4123    487.357     -3.510      0.000   -2666.484    -754.341\n",
       "southwest  -1930.5262    496.107     -3.891      0.000   -2903.763    -957.289\n",
       "==============================================================================\n",
       "Omnibus:                      279.847   Durbin-Watson:                   2.066\n",
       "Prob(Omnibus):                  0.000   Jarque-Bera (JB):              659.841\n",
       "Skew:                           1.137   Prob(JB):                    5.22e-144\n",
       "Kurtosis:                       5.581   Cond. No.                         206.\n",
       "==============================================================================\n",
       "\n",
       "Warnings:\n",
       "[1] Standard Errors assume that the covariance matrix of the errors is correctly specified.\n",
       "\"\"\""
      ]
     },
     "execution_count": 144,
     "metadata": {},
     "output_type": "execute_result"
    }
   ],
   "source": [
    "fit_model.summary()"
   ]
  },
  {
   "cell_type": "markdown",
   "metadata": {},
   "source": [
    "The p-value of 'children' is the largest (.051) but still low enough to add it to the model since my threshold is .05 ish. "
   ]
  },
  {
   "cell_type": "code",
   "execution_count": 145,
   "metadata": {},
   "outputs": [
    {
     "data": {
      "text/html": [
       "<div>\n",
       "<style scoped>\n",
       "    .dataframe tbody tr th:only-of-type {\n",
       "        vertical-align: middle;\n",
       "    }\n",
       "\n",
       "    .dataframe tbody tr th {\n",
       "        vertical-align: top;\n",
       "    }\n",
       "\n",
       "    .dataframe thead th {\n",
       "        text-align: right;\n",
       "    }\n",
       "</style>\n",
       "<table border=\"1\" class=\"dataframe\">\n",
       "  <thead>\n",
       "    <tr style=\"text-align: right;\">\n",
       "      <th></th>\n",
       "      <th>age</th>\n",
       "      <th>sex_n</th>\n",
       "      <th>bmi</th>\n",
       "      <th>children</th>\n",
       "      <th>smoker_n</th>\n",
       "      <th>southeast</th>\n",
       "      <th>northwest</th>\n",
       "      <th>southwest</th>\n",
       "    </tr>\n",
       "  </thead>\n",
       "  <tbody>\n",
       "    <tr>\n",
       "      <td>0</td>\n",
       "      <td>19</td>\n",
       "      <td>1</td>\n",
       "      <td>27.900</td>\n",
       "      <td>0</td>\n",
       "      <td>1</td>\n",
       "      <td>0</td>\n",
       "      <td>0</td>\n",
       "      <td>1</td>\n",
       "    </tr>\n",
       "    <tr>\n",
       "      <td>1</td>\n",
       "      <td>18</td>\n",
       "      <td>0</td>\n",
       "      <td>33.770</td>\n",
       "      <td>1</td>\n",
       "      <td>0</td>\n",
       "      <td>1</td>\n",
       "      <td>0</td>\n",
       "      <td>0</td>\n",
       "    </tr>\n",
       "    <tr>\n",
       "      <td>2</td>\n",
       "      <td>28</td>\n",
       "      <td>0</td>\n",
       "      <td>33.000</td>\n",
       "      <td>3</td>\n",
       "      <td>0</td>\n",
       "      <td>1</td>\n",
       "      <td>0</td>\n",
       "      <td>0</td>\n",
       "    </tr>\n",
       "    <tr>\n",
       "      <td>3</td>\n",
       "      <td>33</td>\n",
       "      <td>0</td>\n",
       "      <td>22.705</td>\n",
       "      <td>0</td>\n",
       "      <td>0</td>\n",
       "      <td>0</td>\n",
       "      <td>1</td>\n",
       "      <td>0</td>\n",
       "    </tr>\n",
       "    <tr>\n",
       "      <td>4</td>\n",
       "      <td>32</td>\n",
       "      <td>0</td>\n",
       "      <td>28.880</td>\n",
       "      <td>0</td>\n",
       "      <td>0</td>\n",
       "      <td>0</td>\n",
       "      <td>1</td>\n",
       "      <td>0</td>\n",
       "    </tr>\n",
       "    <tr>\n",
       "      <td>...</td>\n",
       "      <td>...</td>\n",
       "      <td>...</td>\n",
       "      <td>...</td>\n",
       "      <td>...</td>\n",
       "      <td>...</td>\n",
       "      <td>...</td>\n",
       "      <td>...</td>\n",
       "      <td>...</td>\n",
       "    </tr>\n",
       "    <tr>\n",
       "      <td>1333</td>\n",
       "      <td>50</td>\n",
       "      <td>0</td>\n",
       "      <td>30.970</td>\n",
       "      <td>3</td>\n",
       "      <td>0</td>\n",
       "      <td>0</td>\n",
       "      <td>1</td>\n",
       "      <td>0</td>\n",
       "    </tr>\n",
       "    <tr>\n",
       "      <td>1334</td>\n",
       "      <td>18</td>\n",
       "      <td>1</td>\n",
       "      <td>31.920</td>\n",
       "      <td>0</td>\n",
       "      <td>0</td>\n",
       "      <td>0</td>\n",
       "      <td>0</td>\n",
       "      <td>0</td>\n",
       "    </tr>\n",
       "    <tr>\n",
       "      <td>1335</td>\n",
       "      <td>18</td>\n",
       "      <td>1</td>\n",
       "      <td>36.850</td>\n",
       "      <td>0</td>\n",
       "      <td>0</td>\n",
       "      <td>1</td>\n",
       "      <td>0</td>\n",
       "      <td>0</td>\n",
       "    </tr>\n",
       "    <tr>\n",
       "      <td>1336</td>\n",
       "      <td>21</td>\n",
       "      <td>1</td>\n",
       "      <td>25.800</td>\n",
       "      <td>0</td>\n",
       "      <td>0</td>\n",
       "      <td>0</td>\n",
       "      <td>0</td>\n",
       "      <td>1</td>\n",
       "    </tr>\n",
       "    <tr>\n",
       "      <td>1337</td>\n",
       "      <td>61</td>\n",
       "      <td>1</td>\n",
       "      <td>29.070</td>\n",
       "      <td>0</td>\n",
       "      <td>1</td>\n",
       "      <td>0</td>\n",
       "      <td>1</td>\n",
       "      <td>0</td>\n",
       "    </tr>\n",
       "  </tbody>\n",
       "</table>\n",
       "<p>1338 rows × 8 columns</p>\n",
       "</div>"
      ],
      "text/plain": [
       "      age  sex_n     bmi  children  smoker_n  southeast  northwest  southwest\n",
       "0      19      1  27.900         0         1          0          0          1\n",
       "1      18      0  33.770         1         0          1          0          0\n",
       "2      28      0  33.000         3         0          1          0          0\n",
       "3      33      0  22.705         0         0          0          1          0\n",
       "4      32      0  28.880         0         0          0          1          0\n",
       "...   ...    ...     ...       ...       ...        ...        ...        ...\n",
       "1333   50      0  30.970         3         0          0          1          0\n",
       "1334   18      1  31.920         0         0          0          0          0\n",
       "1335   18      1  36.850         0         0          1          0          0\n",
       "1336   21      1  25.800         0         0          0          0          1\n",
       "1337   61      1  29.070         0         1          0          1          0\n",
       "\n",
       "[1338 rows x 8 columns]"
      ]
     },
     "execution_count": 145,
     "metadata": {},
     "output_type": "execute_result"
    }
   ],
   "source": [
    "x"
   ]
  },
  {
   "cell_type": "markdown",
   "metadata": {},
   "source": [
    "Before building a model, I will split the data into the training set and the test set. 80% of the data were allocated to the training set"
   ]
  },
  {
   "cell_type": "code",
   "execution_count": 146,
   "metadata": {},
   "outputs": [],
   "source": [
    "x_train,x_test,y_train,y_test = train_test_split(x,y,train_size=.8,random_state=5)"
   ]
  },
  {
   "cell_type": "code",
   "execution_count": 147,
   "metadata": {},
   "outputs": [
    {
     "data": {
      "text/plain": [
       "(1070, 8)"
      ]
     },
     "execution_count": 147,
     "metadata": {},
     "output_type": "execute_result"
    }
   ],
   "source": [
    "x_train.shape"
   ]
  },
  {
   "cell_type": "code",
   "execution_count": 148,
   "metadata": {
    "scrolled": true
   },
   "outputs": [
    {
     "data": {
      "text/plain": [
       "(268, 8)"
      ]
     },
     "execution_count": 148,
     "metadata": {},
     "output_type": "execute_result"
    }
   ],
   "source": [
    "x_test.shape"
   ]
  },
  {
   "cell_type": "code",
   "execution_count": 149,
   "metadata": {},
   "outputs": [
    {
     "data": {
      "text/html": [
       "<div>\n",
       "<style scoped>\n",
       "    .dataframe tbody tr th:only-of-type {\n",
       "        vertical-align: middle;\n",
       "    }\n",
       "\n",
       "    .dataframe tbody tr th {\n",
       "        vertical-align: top;\n",
       "    }\n",
       "\n",
       "    .dataframe thead th {\n",
       "        text-align: right;\n",
       "    }\n",
       "</style>\n",
       "<table border=\"1\" class=\"dataframe\">\n",
       "  <thead>\n",
       "    <tr style=\"text-align: right;\">\n",
       "      <th></th>\n",
       "      <th>age</th>\n",
       "      <th>sex_n</th>\n",
       "      <th>bmi</th>\n",
       "      <th>children</th>\n",
       "      <th>smoker_n</th>\n",
       "      <th>southeast</th>\n",
       "      <th>northwest</th>\n",
       "      <th>southwest</th>\n",
       "    </tr>\n",
       "  </thead>\n",
       "  <tbody>\n",
       "    <tr>\n",
       "      <td>count</td>\n",
       "      <td>1338.000000</td>\n",
       "      <td>1338.000000</td>\n",
       "      <td>1338.000000</td>\n",
       "      <td>1338.000000</td>\n",
       "      <td>1338.000000</td>\n",
       "      <td>1338.000000</td>\n",
       "      <td>1338.000000</td>\n",
       "      <td>1338.000000</td>\n",
       "    </tr>\n",
       "    <tr>\n",
       "      <td>mean</td>\n",
       "      <td>39.207025</td>\n",
       "      <td>0.494768</td>\n",
       "      <td>30.663397</td>\n",
       "      <td>1.094918</td>\n",
       "      <td>0.204783</td>\n",
       "      <td>0.272048</td>\n",
       "      <td>0.242900</td>\n",
       "      <td>0.242900</td>\n",
       "    </tr>\n",
       "    <tr>\n",
       "      <td>std</td>\n",
       "      <td>14.049960</td>\n",
       "      <td>0.500160</td>\n",
       "      <td>6.098187</td>\n",
       "      <td>1.205493</td>\n",
       "      <td>0.403694</td>\n",
       "      <td>0.445181</td>\n",
       "      <td>0.428995</td>\n",
       "      <td>0.428995</td>\n",
       "    </tr>\n",
       "    <tr>\n",
       "      <td>min</td>\n",
       "      <td>18.000000</td>\n",
       "      <td>0.000000</td>\n",
       "      <td>15.960000</td>\n",
       "      <td>0.000000</td>\n",
       "      <td>0.000000</td>\n",
       "      <td>0.000000</td>\n",
       "      <td>0.000000</td>\n",
       "      <td>0.000000</td>\n",
       "    </tr>\n",
       "    <tr>\n",
       "      <td>25%</td>\n",
       "      <td>27.000000</td>\n",
       "      <td>0.000000</td>\n",
       "      <td>26.296250</td>\n",
       "      <td>0.000000</td>\n",
       "      <td>0.000000</td>\n",
       "      <td>0.000000</td>\n",
       "      <td>0.000000</td>\n",
       "      <td>0.000000</td>\n",
       "    </tr>\n",
       "    <tr>\n",
       "      <td>50%</td>\n",
       "      <td>39.000000</td>\n",
       "      <td>0.000000</td>\n",
       "      <td>30.400000</td>\n",
       "      <td>1.000000</td>\n",
       "      <td>0.000000</td>\n",
       "      <td>0.000000</td>\n",
       "      <td>0.000000</td>\n",
       "      <td>0.000000</td>\n",
       "    </tr>\n",
       "    <tr>\n",
       "      <td>75%</td>\n",
       "      <td>51.000000</td>\n",
       "      <td>1.000000</td>\n",
       "      <td>34.693750</td>\n",
       "      <td>2.000000</td>\n",
       "      <td>0.000000</td>\n",
       "      <td>1.000000</td>\n",
       "      <td>0.000000</td>\n",
       "      <td>0.000000</td>\n",
       "    </tr>\n",
       "    <tr>\n",
       "      <td>max</td>\n",
       "      <td>64.000000</td>\n",
       "      <td>1.000000</td>\n",
       "      <td>53.130000</td>\n",
       "      <td>5.000000</td>\n",
       "      <td>1.000000</td>\n",
       "      <td>1.000000</td>\n",
       "      <td>1.000000</td>\n",
       "      <td>1.000000</td>\n",
       "    </tr>\n",
       "  </tbody>\n",
       "</table>\n",
       "</div>"
      ],
      "text/plain": [
       "               age        sex_n          bmi     children     smoker_n  \\\n",
       "count  1338.000000  1338.000000  1338.000000  1338.000000  1338.000000   \n",
       "mean     39.207025     0.494768    30.663397     1.094918     0.204783   \n",
       "std      14.049960     0.500160     6.098187     1.205493     0.403694   \n",
       "min      18.000000     0.000000    15.960000     0.000000     0.000000   \n",
       "25%      27.000000     0.000000    26.296250     0.000000     0.000000   \n",
       "50%      39.000000     0.000000    30.400000     1.000000     0.000000   \n",
       "75%      51.000000     1.000000    34.693750     2.000000     0.000000   \n",
       "max      64.000000     1.000000    53.130000     5.000000     1.000000   \n",
       "\n",
       "         southeast    northwest    southwest  \n",
       "count  1338.000000  1338.000000  1338.000000  \n",
       "mean      0.272048     0.242900     0.242900  \n",
       "std       0.445181     0.428995     0.428995  \n",
       "min       0.000000     0.000000     0.000000  \n",
       "25%       0.000000     0.000000     0.000000  \n",
       "50%       0.000000     0.000000     0.000000  \n",
       "75%       1.000000     0.000000     0.000000  \n",
       "max       1.000000     1.000000     1.000000  "
      ]
     },
     "execution_count": 149,
     "metadata": {},
     "output_type": "execute_result"
    }
   ],
   "source": [
    "x.describe()"
   ]
  },
  {
   "cell_type": "markdown",
   "metadata": {},
   "source": [
    "I will use multiple linear regression for my model which can predict mdecial insurance charges based on various attributes of an insurnace holder "
   ]
  },
  {
   "cell_type": "markdown",
   "metadata": {},
   "source": [
    "Creating a linear regression model and fit it to my x_train and y_train."
   ]
  },
  {
   "cell_type": "code",
   "execution_count": 150,
   "metadata": {},
   "outputs": [],
   "source": [
    "mlr = LinearRegression()"
   ]
  },
  {
   "cell_type": "code",
   "execution_count": 151,
   "metadata": {},
   "outputs": [
    {
     "data": {
      "text/plain": [
       "LinearRegression(copy_X=True, fit_intercept=True, n_jobs=None, normalize=False)"
      ]
     },
     "execution_count": 151,
     "metadata": {},
     "output_type": "execute_result"
    }
   ],
   "source": [
    "mlr.fit(x_train,y_train)"
   ]
  },
  {
   "cell_type": "markdown",
   "metadata": {},
   "source": [
    "Let's find out what the coefficient of determination $r^{2}$ for my model!"
   ]
  },
  {
   "cell_type": "code",
   "execution_count": 152,
   "metadata": {},
   "outputs": [
    {
     "data": {
      "text/plain": [
       "0.778109660422383"
      ]
     },
     "execution_count": 152,
     "metadata": {},
     "output_type": "execute_result"
    }
   ],
   "source": [
    "mlr.score(x_test,y_test)"
   ]
  },
  {
   "cell_type": "markdown",
   "metadata": {},
   "source": [
    "Let's explore the coefficients of the predictors to see if there's anything we can do to improve the model's accuracy"
   ]
  },
  {
   "cell_type": "code",
   "execution_count": 153,
   "metadata": {},
   "outputs": [
    {
     "data": {
      "text/plain": [
       "array([  256.94295222,   253.53277438,   337.67931668,   552.8415818 ,\n",
       "       23660.10485472,  -845.43390866,    56.31627462,  -845.69969435])"
      ]
     },
     "execution_count": 153,
     "metadata": {},
     "output_type": "execute_result"
    }
   ],
   "source": [
    "mlr.coef_"
   ]
  },
  {
   "cell_type": "code",
   "execution_count": 154,
   "metadata": {
    "scrolled": true
   },
   "outputs": [],
   "source": [
    "person12=[[50,0,27,3,0,0,0,0],[50,1,27,3,0,1,0,0]]"
   ]
  },
  {
   "cell_type": "code",
   "execution_count": 155,
   "metadata": {},
   "outputs": [
    {
     "data": {
      "text/plain": [
       "array([11377.26249459, 10785.36136031])"
      ]
     },
     "execution_count": 155,
     "metadata": {},
     "output_type": "execute_result"
    }
   ],
   "source": [
    "mlr.predict(person12)"
   ]
  },
  {
   "cell_type": "code",
   "execution_count": 156,
   "metadata": {},
   "outputs": [],
   "source": [
    "predicted_y = mlr.predict(x_test)"
   ]
  },
  {
   "cell_type": "code",
   "execution_count": 157,
   "metadata": {},
   "outputs": [
    {
     "data": {
      "text/plain": [
       "array([ 2.80196712e+03,  2.76539583e+04,  1.18270033e+04,  4.97128202e+03,\n",
       "        8.26020179e+03,  3.49800170e+04,  1.17617005e+04,  1.10656352e+04,\n",
       "        8.36519245e+03,  1.11807200e+04,  1.54682184e+04,  1.09007670e+04,\n",
       "        5.01084263e+03,  9.23711837e+03,  8.29646110e+03,  8.89074300e+03,\n",
       "        3.16202402e+04,  1.29482537e+04,  1.32884644e+04,  7.53128170e+03,\n",
       "        2.86085344e+04,  2.19240932e+03,  3.24354449e+03,  3.79492040e+03,\n",
       "        2.49018569e+03,  9.70392727e+03,  3.68406266e+04,  1.70945706e+04,\n",
       "        1.08592745e+04,  1.40876899e+04,  1.33068247e+04,  1.19355775e+03,\n",
       "        5.92173822e+03,  1.07504608e+04,  3.11483102e+04,  4.12584954e+03,\n",
       "        6.66635109e+03,  2.80617764e+03,  6.49691422e+03,  5.82769295e+03,\n",
       "        3.22789584e+03,  3.72470599e+04,  3.06074251e+04,  3.01806687e+04,\n",
       "        1.05504381e+04,  7.59258815e+03,  3.50081453e+04,  3.46932792e+03,\n",
       "        1.90740969e+04,  5.29663474e+03,  1.03836281e+04,  2.86003715e+04,\n",
       "        3.65718423e+03,  4.35025875e+03,  9.76875757e+02,  7.24808385e+03,\n",
       "        3.65488830e+04,  3.15668204e+03,  1.07762116e+04,  1.22239167e+04,\n",
       "        1.23182227e+04,  2.90788200e+04,  3.54223162e+04,  2.90007362e+03,\n",
       "        8.29922743e+03,  4.70673940e+03,  6.50217758e+02,  1.16078971e+04,\n",
       "        1.36358498e+04,  3.55752244e+04,  3.41147829e+03,  1.70224224e+04,\n",
       "        2.54701031e+03,  1.64151630e+03,  8.06223447e+03,  1.10384450e+04,\n",
       "        1.15326749e+04,  3.45296845e+04,  1.42082936e+04,  7.16732681e+03,\n",
       "        4.30619267e+03,  2.82613996e+04,  1.38218467e+04,  2.16037642e+03,\n",
       "        6.78372651e+03,  3.17355120e+04,  8.59673586e+03,  4.22408731e+03,\n",
       "        8.07658716e+03,  1.52703885e+04,  7.43838528e+03,  1.52514160e+04,\n",
       "        1.76243847e+03,  5.15138470e+03,  5.93483122e+03,  2.49261581e+04,\n",
       "        3.85044907e+03,  5.08635104e+03,  7.55928334e+03,  1.36316068e+04,\n",
       "        3.13997529e+04,  3.15917220e+03,  2.63870386e+04,  1.13704623e+04,\n",
       "        1.21787350e+04,  1.15967971e+04,  7.61308759e+03,  4.23080341e+03,\n",
       "        8.03945946e+03,  2.67538913e+04,  1.57650618e+04,  3.35432491e+04,\n",
       "        3.54566196e+03,  2.69972566e+04,  3.95669117e+03,  8.41489828e+03,\n",
       "        6.66393452e+03,  4.98108959e+03,  9.44443963e+03,  3.03570120e+04,\n",
       "        2.96918373e+03,  2.69149023e+04,  1.07023796e+04,  9.64090231e+03,\n",
       "        3.92597754e+03,  1.27741657e+04,  5.73621664e+03,  6.97064274e+03,\n",
       "        1.17946638e+04,  3.22191117e+04,  3.35932158e+03,  1.63228128e+04,\n",
       "        2.63582972e+04,  5.82652816e+03,  3.54850081e+04,  7.83077660e+03,\n",
       "        1.96593610e+03,  2.68944897e+03,  3.38736237e+03,  2.18693194e+03,\n",
       "        8.86008176e+03,  4.87825766e+03,  3.56305046e+04,  7.24505462e+03,\n",
       "        8.13488728e+02,  5.73716483e+03,  1.38975627e+04,  1.28265761e+04,\n",
       "        1.11143774e+04,  9.75399672e+03,  4.05985256e+03,  1.63564347e+04,\n",
       "        3.40532021e+04,  2.74436757e+04,  3.37284577e+04,  5.77280959e+03,\n",
       "        4.66258016e+03,  3.99211751e+01,  1.20525267e+04,  4.46583413e+03,\n",
       "        6.60585073e+03,  2.30317438e+04,  3.70221964e+04,  9.70914932e+03,\n",
       "        5.53731229e+03,  1.69379456e+04,  1.20882227e+04,  1.44096872e+04,\n",
       "        9.54517006e+03,  8.10754854e+03,  7.27333244e+03,  1.07784050e+04,\n",
       "        1.07517318e+04,  9.76537130e+02,  9.40182774e+03,  2.87517222e+04,\n",
       "        8.42986742e+03,  1.31796407e+04,  9.62292837e+03,  6.03011302e+03,\n",
       "        1.02850560e+04,  1.16037101e+04,  3.10046857e+04,  2.98451199e+04,\n",
       "        6.23447738e+03,  8.29924900e+03,  1.59513656e+04,  1.18574731e+04,\n",
       "        1.29262816e+04,  3.97951421e+04,  1.16056445e+04,  1.29398213e+04,\n",
       "        5.35083012e+03,  3.38589315e+04,  6.10856597e+03,  4.05995792e+04,\n",
       "        1.46694552e+04,  3.18024311e+04,  1.54309994e+04,  4.50743269e+03,\n",
       "        7.31900922e+03,  1.14541347e+04,  1.11041413e+03,  1.43404601e+04,\n",
       "        1.03884808e+04,  7.34723754e+03,  3.18699537e+04,  3.30498529e+04,\n",
       "       -3.65497349e+02,  3.76053390e+03,  7.00154637e+03,  6.09512649e+03,\n",
       "        1.05130985e+04,  3.98552510e+03,  3.99105499e+02,  1.24013683e+04,\n",
       "        1.05454091e+04,  1.15971406e+04,  9.61570877e+03,  1.43649266e+02,\n",
       "        4.44138695e+03,  1.00938351e+04,  3.44631787e+03,  1.42731403e+04,\n",
       "        4.57875146e+02,  1.56497649e+04,  3.34760926e+04,  1.53977746e+04,\n",
       "        1.93339916e+03,  5.70655762e+03,  6.79539365e+03,  1.15695556e+04,\n",
       "        3.30227169e+04,  1.31167083e+04,  1.42469218e+02,  7.63995332e+03,\n",
       "       -1.01365464e+03,  4.30184165e+03,  3.63591658e+04,  1.64666660e+03,\n",
       "        3.98168047e+03,  2.97090880e+04,  5.46938412e+03,  1.24944108e+04,\n",
       "        3.23832964e+04,  6.33456350e+03,  1.77330578e+04,  1.31961756e+04,\n",
       "        3.90527746e+04,  5.97105881e+03,  7.92906839e+03,  2.85272581e+04,\n",
       "        3.06058834e+04,  1.04447512e+04,  1.19273717e+04,  7.67107053e+03,\n",
       "        3.30532968e+03,  9.65036119e+03,  6.32046342e+03,  7.04810943e+03,\n",
       "        4.71368484e+03,  2.29624849e+03,  1.09995417e+04,  3.07166649e+04,\n",
       "        3.73926341e+03, -4.10419002e+02,  2.33213810e+04,  3.17520243e+04])"
      ]
     },
     "execution_count": 157,
     "metadata": {},
     "output_type": "execute_result"
    }
   ],
   "source": [
    "predicted_y"
   ]
  },
  {
   "cell_type": "code",
   "execution_count": 158,
   "metadata": {},
   "outputs": [
    {
     "data": {
      "text/plain": [
       "Text(0, 0.5, 'Predicted insurance charge')"
      ]
     },
     "execution_count": 158,
     "metadata": {},
     "output_type": "execute_result"
    },
    {
     "data": {
      "image/png": "[encoded data removed]",
      "text/plain": [
       "<Figure size 432x288 with 1 Axes>"
      ]
     },
     "metadata": {
      "needs_background": "light"
     },
     "output_type": "display_data"
    }
   ],
   "source": [
    "plt.scatter(y_test,predicted_y)\n",
    "plt.title('Actual Vs. Predicted')\n",
    "plt.xlabel('Actual insurance charge')\n",
    "plt.ylabel('Predicted insurance charge')"
   ]
  },
  {
   "cell_type": "markdown",
   "metadata": {},
   "source": [
    "Based on the graph above and $r^2$, I think my model is fairly effective. Please give me feedback to improve my thought process! Thanks!"
   ]
  },
  {
   "cell_type": "code",
   "execution_count": null,
   "metadata": {},
   "outputs": [],
   "source": []
  }
 ],
 "metadata": {
  "kernelspec": {
   "display_name": "Python 3",
   "language": "python",
   "name": "python3"
  },
  "language_info": {
   "codemirror_mode": {
    "name": "ipython",
    "version": 3
   },
   "file_extension": ".py",
   "mimetype": "text/x-python",
   "name": "python",
   "nbconvert_exporter": "python",
   "pygments_lexer": "ipython3",
   "version": "3.7.4"
  }
 },
 "nbformat": 4,
 "nbformat_minor": 2
}
