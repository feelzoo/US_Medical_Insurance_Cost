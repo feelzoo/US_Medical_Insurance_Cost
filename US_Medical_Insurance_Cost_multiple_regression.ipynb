{
 "cells": [
  {
   "cell_type": "markdown",
   "metadata": {},
   "source": [
    "# US Medical Insurance Cost\n",
    "\n",
    "In this project, a **CSV** file with medical insurance costs will be investigated using Python fundamentals and ML algorithims. My goal is to find an effective model to predict the insurance costs by using various attributes of isurance policyholders. (so that I can save my insurance cost!!)"
   ]
  },
  {
   "cell_type": "code",
   "execution_count": 1,
   "metadata": {},
   "outputs": [],
   "source": [
    "import pandas as pd\n",
    "import numpy as np\n",
    "from matplotlib import pyplot as plt\n",
    "from sklearn.linear_model import LinearRegression\n",
    "from sklearn.model_selection import train_test_split\n",
    "from sklearn.preprocessing import StandardScaler\n",
    "from sklearn.linear_model import LogisticRegression\n",
    "import statsmodels.api as sm\n",
    "import seaborn as sns\n",
    "from sklearn.preprocessing import OneHotEncoder, LabelEncoder\n",
    "from scipy import stats\n",
    "import math"
   ]
  },
  {
   "cell_type": "markdown",
   "metadata": {},
   "source": [
    "# 1. Dataset "
   ]
  },
  {
   "cell_type": "code",
   "execution_count": 37,
   "metadata": {},
   "outputs": [],
   "source": [
    "#Load data into a dataframe\n",
    "insurance = pd.read_csv('insurance.csv')"
   ]
  },
  {
   "cell_type": "code",
   "execution_count": 38,
   "metadata": {
    "scrolled": false
   },
   "outputs": [
    {
     "data": {
      "text/html": [
       "<div>\n",
       "<style scoped>\n",
       "    .dataframe tbody tr th:only-of-type {\n",
       "        vertical-align: middle;\n",
       "    }\n",
       "\n",
       "    .dataframe tbody tr th {\n",
       "        vertical-align: top;\n",
       "    }\n",
       "\n",
       "    .dataframe thead th {\n",
       "        text-align: right;\n",
       "    }\n",
       "</style>\n",
       "<table border=\"1\" class=\"dataframe\">\n",
       "  <thead>\n",
       "    <tr style=\"text-align: right;\">\n",
       "      <th></th>\n",
       "      <th>age</th>\n",
       "      <th>sex</th>\n",
       "      <th>bmi</th>\n",
       "      <th>children</th>\n",
       "      <th>smoker</th>\n",
       "      <th>region</th>\n",
       "      <th>charges</th>\n",
       "    </tr>\n",
       "  </thead>\n",
       "  <tbody>\n",
       "    <tr>\n",
       "      <th>0</th>\n",
       "      <td>19</td>\n",
       "      <td>female</td>\n",
       "      <td>27.900</td>\n",
       "      <td>0</td>\n",
       "      <td>yes</td>\n",
       "      <td>southwest</td>\n",
       "      <td>16884.92400</td>\n",
       "    </tr>\n",
       "    <tr>\n",
       "      <th>1</th>\n",
       "      <td>18</td>\n",
       "      <td>male</td>\n",
       "      <td>33.770</td>\n",
       "      <td>1</td>\n",
       "      <td>no</td>\n",
       "      <td>southeast</td>\n",
       "      <td>1725.55230</td>\n",
       "    </tr>\n",
       "    <tr>\n",
       "      <th>2</th>\n",
       "      <td>28</td>\n",
       "      <td>male</td>\n",
       "      <td>33.000</td>\n",
       "      <td>3</td>\n",
       "      <td>no</td>\n",
       "      <td>southeast</td>\n",
       "      <td>4449.46200</td>\n",
       "    </tr>\n",
       "    <tr>\n",
       "      <th>3</th>\n",
       "      <td>33</td>\n",
       "      <td>male</td>\n",
       "      <td>22.705</td>\n",
       "      <td>0</td>\n",
       "      <td>no</td>\n",
       "      <td>northwest</td>\n",
       "      <td>21984.47061</td>\n",
       "    </tr>\n",
       "    <tr>\n",
       "      <th>4</th>\n",
       "      <td>32</td>\n",
       "      <td>male</td>\n",
       "      <td>28.880</td>\n",
       "      <td>0</td>\n",
       "      <td>no</td>\n",
       "      <td>northwest</td>\n",
       "      <td>3866.85520</td>\n",
       "    </tr>\n",
       "  </tbody>\n",
       "</table>\n",
       "</div>"
      ],
      "text/plain": [
       "   age     sex     bmi  children smoker     region      charges\n",
       "0   19  female  27.900         0    yes  southwest  16884.92400\n",
       "1   18    male  33.770         1     no  southeast   1725.55230\n",
       "2   28    male  33.000         3     no  southeast   4449.46200\n",
       "3   33    male  22.705         0     no  northwest  21984.47061\n",
       "4   32    male  28.880         0     no  northwest   3866.85520"
      ]
     },
     "execution_count": 38,
     "metadata": {},
     "output_type": "execute_result"
    }
   ],
   "source": [
    "#check the head of dataframe\n",
    "insurance.head()"
   ]
  },
  {
   "cell_type": "markdown",
   "metadata": {},
   "source": [
    "6 data fields about insurance policyholders as below \n",
    "* age: policyholder's age / integer variable\n",
    "* sex: policyholder's sex / string variable\n",
    "* bmi: policyholder's Body Mass Index / float variable - BMI is used for defining a person's weight category (underweight, normal weight, overweight, obese) \n",
    "* children: the number of children a policyholder has / integer variable\n",
    "* smoker: policyholder smoking or not / string variable\n",
    "* region: a region where a policyholder lives / string variable \n",
    "* charges: amount of charges a policyholder pays / float variable"
   ]
  },
  {
   "cell_type": "markdown",
   "metadata": {},
   "source": [
    "# 2. Converting categorical variables into numerical variables "
   ]
  },
  {
   "cell_type": "code",
   "execution_count": 39,
   "metadata": {},
   "outputs": [],
   "source": [
    "#Select my predictos\n",
    "x = insurance [['age', 'sex', 'bmi', 'children', 'smoker', 'region']]\n",
    "#Select my response\n",
    "y= insurance['charges']"
   ]
  },
  {
   "cell_type": "markdown",
   "metadata": {},
   "source": [
    "As shown in the data field introduction, the following columns (sex,smoker,region) contain string variables. <br> Mulitple linear regression model is algebraic where all of your inputs have to be numeric. Thus, I will transform these categorical variables into numerical variables. \n",
    "\n",
    "\n",
    "transform  [sex,smoker]  into binary variable\n",
    "\n",
    "1. sex <br>\n",
    "0: male 1:female\n",
    "\n",
    "2. smoker <br> 0: no 1: yes "
   ]
  },
  {
   "cell_type": "code",
   "execution_count": 40,
   "metadata": {
    "scrolled": false
   },
   "outputs": [],
   "source": [
    "x['sex_n'] = x['sex'].map({'male':0,'female':1})\n",
    "x['smoker_n'] = x['smoker'].map({'yes':1,'no':0})"
   ]
  },
  {
   "cell_type": "markdown",
   "metadata": {},
   "source": [
    "3. region"
   ]
  },
  {
   "cell_type": "code",
   "execution_count": 41,
   "metadata": {
    "scrolled": false
   },
   "outputs": [
    {
     "data": {
      "text/plain": [
       "southeast    364\n",
       "northwest    325\n",
       "southwest    325\n",
       "northeast    324\n",
       "Name: region, dtype: int64"
      ]
     },
     "execution_count": 41,
     "metadata": {},
     "output_type": "execute_result"
    }
   ],
   "source": [
    "#Checking the number of levels for the column:region\n",
    "x.region.value_counts()"
   ]
  },
  {
   "cell_type": "markdown",
   "metadata": {},
   "source": [
    "There are 4 levels for 'region'. One can think of assigning numerical labels to these regions, but these regions don't have intrinsic ordering between them (categorical variables). For example. we are not able to claim that northwest region (value of 3) deserve 3x bigger number than the southwest region (value of 1) with no valid reason.\n",
    "\n",
    "Thus, I have to create dummy variables. I applied one hot encoding scheme with which 4 bianry variables will take the place of the original categorical variable"
   ]
  },
  {
   "cell_type": "markdown",
   "metadata": {},
   "source": [
    "The first step is to create a column 'region_label' which contains numeric representations of the original column 'region' by using LabelEncoder"
   ]
  },
  {
   "cell_type": "code",
   "execution_count": 42,
   "metadata": {},
   "outputs": [],
   "source": [
    "#tranform and map regions \n",
    "region_le = LabelEncoder()\n",
    "region_label = region_le.fit_transform(x.region)\n",
    "x['region_label']= region_label"
   ]
  },
  {
   "cell_type": "code",
   "execution_count": 43,
   "metadata": {},
   "outputs": [
    {
     "data": {
      "text/plain": [
       "0       3\n",
       "1       2\n",
       "2       2\n",
       "3       1\n",
       "4       1\n",
       "       ..\n",
       "1333    1\n",
       "1334    0\n",
       "1335    2\n",
       "1336    3\n",
       "1337    1\n",
       "Name: region_label, Length: 1338, dtype: int64"
      ]
     },
     "execution_count": 43,
     "metadata": {},
     "output_type": "execute_result"
    }
   ],
   "source": [
    "x['region_label']"
   ]
  },
  {
   "cell_type": "markdown",
   "metadata": {},
   "source": [
    "The second step is to create 4 dummy variables (binary variables) by using OneHotEncoder()"
   ]
  },
  {
   "cell_type": "code",
   "execution_count": 44,
   "metadata": {},
   "outputs": [
    {
     "data": {
      "text/html": [
       "<div>\n",
       "<style scoped>\n",
       "    .dataframe tbody tr th:only-of-type {\n",
       "        vertical-align: middle;\n",
       "    }\n",
       "\n",
       "    .dataframe tbody tr th {\n",
       "        vertical-align: top;\n",
       "    }\n",
       "\n",
       "    .dataframe thead th {\n",
       "        text-align: right;\n",
       "    }\n",
       "</style>\n",
       "<table border=\"1\" class=\"dataframe\">\n",
       "  <thead>\n",
       "    <tr style=\"text-align: right;\">\n",
       "      <th></th>\n",
       "      <th>northeast</th>\n",
       "      <th>northwest</th>\n",
       "      <th>southeast</th>\n",
       "      <th>southwest</th>\n",
       "    </tr>\n",
       "  </thead>\n",
       "  <tbody>\n",
       "    <tr>\n",
       "      <th>0</th>\n",
       "      <td>0.0</td>\n",
       "      <td>0.0</td>\n",
       "      <td>0.0</td>\n",
       "      <td>1.0</td>\n",
       "    </tr>\n",
       "    <tr>\n",
       "      <th>1</th>\n",
       "      <td>0.0</td>\n",
       "      <td>0.0</td>\n",
       "      <td>1.0</td>\n",
       "      <td>0.0</td>\n",
       "    </tr>\n",
       "    <tr>\n",
       "      <th>2</th>\n",
       "      <td>0.0</td>\n",
       "      <td>0.0</td>\n",
       "      <td>1.0</td>\n",
       "      <td>0.0</td>\n",
       "    </tr>\n",
       "    <tr>\n",
       "      <th>3</th>\n",
       "      <td>0.0</td>\n",
       "      <td>1.0</td>\n",
       "      <td>0.0</td>\n",
       "      <td>0.0</td>\n",
       "    </tr>\n",
       "    <tr>\n",
       "      <th>4</th>\n",
       "      <td>0.0</td>\n",
       "      <td>1.0</td>\n",
       "      <td>0.0</td>\n",
       "      <td>0.0</td>\n",
       "    </tr>\n",
       "    <tr>\n",
       "      <th>...</th>\n",
       "      <td>...</td>\n",
       "      <td>...</td>\n",
       "      <td>...</td>\n",
       "      <td>...</td>\n",
       "    </tr>\n",
       "    <tr>\n",
       "      <th>1333</th>\n",
       "      <td>0.0</td>\n",
       "      <td>1.0</td>\n",
       "      <td>0.0</td>\n",
       "      <td>0.0</td>\n",
       "    </tr>\n",
       "    <tr>\n",
       "      <th>1334</th>\n",
       "      <td>1.0</td>\n",
       "      <td>0.0</td>\n",
       "      <td>0.0</td>\n",
       "      <td>0.0</td>\n",
       "    </tr>\n",
       "    <tr>\n",
       "      <th>1335</th>\n",
       "      <td>0.0</td>\n",
       "      <td>0.0</td>\n",
       "      <td>1.0</td>\n",
       "      <td>0.0</td>\n",
       "    </tr>\n",
       "    <tr>\n",
       "      <th>1336</th>\n",
       "      <td>0.0</td>\n",
       "      <td>0.0</td>\n",
       "      <td>0.0</td>\n",
       "      <td>1.0</td>\n",
       "    </tr>\n",
       "    <tr>\n",
       "      <th>1337</th>\n",
       "      <td>0.0</td>\n",
       "      <td>1.0</td>\n",
       "      <td>0.0</td>\n",
       "      <td>0.0</td>\n",
       "    </tr>\n",
       "  </tbody>\n",
       "</table>\n",
       "<p>1338 rows × 4 columns</p>\n",
       "</div>"
      ],
      "text/plain": [
       "      northeast  northwest  southeast  southwest\n",
       "0           0.0        0.0        0.0        1.0\n",
       "1           0.0        0.0        1.0        0.0\n",
       "2           0.0        0.0        1.0        0.0\n",
       "3           0.0        1.0        0.0        0.0\n",
       "4           0.0        1.0        0.0        0.0\n",
       "...         ...        ...        ...        ...\n",
       "1333        0.0        1.0        0.0        0.0\n",
       "1334        1.0        0.0        0.0        0.0\n",
       "1335        0.0        0.0        1.0        0.0\n",
       "1336        0.0        0.0        0.0        1.0\n",
       "1337        0.0        1.0        0.0        0.0\n",
       "\n",
       "[1338 rows x 4 columns]"
      ]
     },
     "execution_count": 44,
     "metadata": {},
     "output_type": "execute_result"
    }
   ],
   "source": [
    "#encode region labels using one-hot encoding scheme\n",
    "region_hot = OneHotEncoder()\n",
    "region_feature_arr = region_hot.fit_transform (x[['region_label']]).toarray()\n",
    "region_feature_labels=list(region_le.classes_)\n",
    "region_features = pd.DataFrame(region_feature_arr,columns=region_feature_labels)\n",
    "region_features"
   ]
  },
  {
   "cell_type": "code",
   "execution_count": 45,
   "metadata": {},
   "outputs": [
    {
     "data": {
      "text/html": [
       "<div>\n",
       "<style scoped>\n",
       "    .dataframe tbody tr th:only-of-type {\n",
       "        vertical-align: middle;\n",
       "    }\n",
       "\n",
       "    .dataframe tbody tr th {\n",
       "        vertical-align: top;\n",
       "    }\n",
       "\n",
       "    .dataframe thead th {\n",
       "        text-align: right;\n",
       "    }\n",
       "</style>\n",
       "<table border=\"1\" class=\"dataframe\">\n",
       "  <thead>\n",
       "    <tr style=\"text-align: right;\">\n",
       "      <th></th>\n",
       "      <th>age</th>\n",
       "      <th>sex</th>\n",
       "      <th>bmi</th>\n",
       "      <th>children</th>\n",
       "      <th>smoker</th>\n",
       "      <th>region</th>\n",
       "      <th>sex_n</th>\n",
       "      <th>smoker_n</th>\n",
       "      <th>region_label</th>\n",
       "      <th>northeast</th>\n",
       "      <th>northwest</th>\n",
       "      <th>southeast</th>\n",
       "      <th>southwest</th>\n",
       "    </tr>\n",
       "  </thead>\n",
       "  <tbody>\n",
       "    <tr>\n",
       "      <th>0</th>\n",
       "      <td>19</td>\n",
       "      <td>female</td>\n",
       "      <td>27.900</td>\n",
       "      <td>0</td>\n",
       "      <td>yes</td>\n",
       "      <td>southwest</td>\n",
       "      <td>1</td>\n",
       "      <td>1</td>\n",
       "      <td>3</td>\n",
       "      <td>0.0</td>\n",
       "      <td>0.0</td>\n",
       "      <td>0.0</td>\n",
       "      <td>1.0</td>\n",
       "    </tr>\n",
       "    <tr>\n",
       "      <th>1</th>\n",
       "      <td>18</td>\n",
       "      <td>male</td>\n",
       "      <td>33.770</td>\n",
       "      <td>1</td>\n",
       "      <td>no</td>\n",
       "      <td>southeast</td>\n",
       "      <td>0</td>\n",
       "      <td>0</td>\n",
       "      <td>2</td>\n",
       "      <td>0.0</td>\n",
       "      <td>0.0</td>\n",
       "      <td>1.0</td>\n",
       "      <td>0.0</td>\n",
       "    </tr>\n",
       "    <tr>\n",
       "      <th>2</th>\n",
       "      <td>28</td>\n",
       "      <td>male</td>\n",
       "      <td>33.000</td>\n",
       "      <td>3</td>\n",
       "      <td>no</td>\n",
       "      <td>southeast</td>\n",
       "      <td>0</td>\n",
       "      <td>0</td>\n",
       "      <td>2</td>\n",
       "      <td>0.0</td>\n",
       "      <td>0.0</td>\n",
       "      <td>1.0</td>\n",
       "      <td>0.0</td>\n",
       "    </tr>\n",
       "    <tr>\n",
       "      <th>3</th>\n",
       "      <td>33</td>\n",
       "      <td>male</td>\n",
       "      <td>22.705</td>\n",
       "      <td>0</td>\n",
       "      <td>no</td>\n",
       "      <td>northwest</td>\n",
       "      <td>0</td>\n",
       "      <td>0</td>\n",
       "      <td>1</td>\n",
       "      <td>0.0</td>\n",
       "      <td>1.0</td>\n",
       "      <td>0.0</td>\n",
       "      <td>0.0</td>\n",
       "    </tr>\n",
       "    <tr>\n",
       "      <th>4</th>\n",
       "      <td>32</td>\n",
       "      <td>male</td>\n",
       "      <td>28.880</td>\n",
       "      <td>0</td>\n",
       "      <td>no</td>\n",
       "      <td>northwest</td>\n",
       "      <td>0</td>\n",
       "      <td>0</td>\n",
       "      <td>1</td>\n",
       "      <td>0.0</td>\n",
       "      <td>1.0</td>\n",
       "      <td>0.0</td>\n",
       "      <td>0.0</td>\n",
       "    </tr>\n",
       "    <tr>\n",
       "      <th>...</th>\n",
       "      <td>...</td>\n",
       "      <td>...</td>\n",
       "      <td>...</td>\n",
       "      <td>...</td>\n",
       "      <td>...</td>\n",
       "      <td>...</td>\n",
       "      <td>...</td>\n",
       "      <td>...</td>\n",
       "      <td>...</td>\n",
       "      <td>...</td>\n",
       "      <td>...</td>\n",
       "      <td>...</td>\n",
       "      <td>...</td>\n",
       "    </tr>\n",
       "    <tr>\n",
       "      <th>1333</th>\n",
       "      <td>50</td>\n",
       "      <td>male</td>\n",
       "      <td>30.970</td>\n",
       "      <td>3</td>\n",
       "      <td>no</td>\n",
       "      <td>northwest</td>\n",
       "      <td>0</td>\n",
       "      <td>0</td>\n",
       "      <td>1</td>\n",
       "      <td>0.0</td>\n",
       "      <td>1.0</td>\n",
       "      <td>0.0</td>\n",
       "      <td>0.0</td>\n",
       "    </tr>\n",
       "    <tr>\n",
       "      <th>1334</th>\n",
       "      <td>18</td>\n",
       "      <td>female</td>\n",
       "      <td>31.920</td>\n",
       "      <td>0</td>\n",
       "      <td>no</td>\n",
       "      <td>northeast</td>\n",
       "      <td>1</td>\n",
       "      <td>0</td>\n",
       "      <td>0</td>\n",
       "      <td>1.0</td>\n",
       "      <td>0.0</td>\n",
       "      <td>0.0</td>\n",
       "      <td>0.0</td>\n",
       "    </tr>\n",
       "    <tr>\n",
       "      <th>1335</th>\n",
       "      <td>18</td>\n",
       "      <td>female</td>\n",
       "      <td>36.850</td>\n",
       "      <td>0</td>\n",
       "      <td>no</td>\n",
       "      <td>southeast</td>\n",
       "      <td>1</td>\n",
       "      <td>0</td>\n",
       "      <td>2</td>\n",
       "      <td>0.0</td>\n",
       "      <td>0.0</td>\n",
       "      <td>1.0</td>\n",
       "      <td>0.0</td>\n",
       "    </tr>\n",
       "    <tr>\n",
       "      <th>1336</th>\n",
       "      <td>21</td>\n",
       "      <td>female</td>\n",
       "      <td>25.800</td>\n",
       "      <td>0</td>\n",
       "      <td>no</td>\n",
       "      <td>southwest</td>\n",
       "      <td>1</td>\n",
       "      <td>0</td>\n",
       "      <td>3</td>\n",
       "      <td>0.0</td>\n",
       "      <td>0.0</td>\n",
       "      <td>0.0</td>\n",
       "      <td>1.0</td>\n",
       "    </tr>\n",
       "    <tr>\n",
       "      <th>1337</th>\n",
       "      <td>61</td>\n",
       "      <td>female</td>\n",
       "      <td>29.070</td>\n",
       "      <td>0</td>\n",
       "      <td>yes</td>\n",
       "      <td>northwest</td>\n",
       "      <td>1</td>\n",
       "      <td>1</td>\n",
       "      <td>1</td>\n",
       "      <td>0.0</td>\n",
       "      <td>1.0</td>\n",
       "      <td>0.0</td>\n",
       "      <td>0.0</td>\n",
       "    </tr>\n",
       "  </tbody>\n",
       "</table>\n",
       "<p>1338 rows × 13 columns</p>\n",
       "</div>"
      ],
      "text/plain": [
       "      age     sex     bmi  children smoker     region  sex_n  smoker_n  \\\n",
       "0      19  female  27.900         0    yes  southwest      1         1   \n",
       "1      18    male  33.770         1     no  southeast      0         0   \n",
       "2      28    male  33.000         3     no  southeast      0         0   \n",
       "3      33    male  22.705         0     no  northwest      0         0   \n",
       "4      32    male  28.880         0     no  northwest      0         0   \n",
       "...   ...     ...     ...       ...    ...        ...    ...       ...   \n",
       "1333   50    male  30.970         3     no  northwest      0         0   \n",
       "1334   18  female  31.920         0     no  northeast      1         0   \n",
       "1335   18  female  36.850         0     no  southeast      1         0   \n",
       "1336   21  female  25.800         0     no  southwest      1         0   \n",
       "1337   61  female  29.070         0    yes  northwest      1         1   \n",
       "\n",
       "      region_label  northeast  northwest  southeast  southwest  \n",
       "0                3        0.0        0.0        0.0        1.0  \n",
       "1                2        0.0        0.0        1.0        0.0  \n",
       "2                2        0.0        0.0        1.0        0.0  \n",
       "3                1        0.0        1.0        0.0        0.0  \n",
       "4                1        0.0        1.0        0.0        0.0  \n",
       "...            ...        ...        ...        ...        ...  \n",
       "1333             1        0.0        1.0        0.0        0.0  \n",
       "1334             0        1.0        0.0        0.0        0.0  \n",
       "1335             2        0.0        0.0        1.0        0.0  \n",
       "1336             3        0.0        0.0        0.0        1.0  \n",
       "1337             1        0.0        1.0        0.0        0.0  \n",
       "\n",
       "[1338 rows x 13 columns]"
      ]
     },
     "execution_count": 45,
     "metadata": {},
     "output_type": "execute_result"
    }
   ],
   "source": [
    "x = pd.concat([x,region_features],axis=1)\n",
    "x"
   ]
  },
  {
   "cell_type": "markdown",
   "metadata": {},
   "source": [
    "I'm done with encoding my categorical variables!! I will re-select my predictors with numerical variables only! \n",
    "\n",
    "One of the dummy variables will be left behind. You can find the explanation why we left 1 dummy variable behind here: http://www.feat.engineering/creating-dummy-variables-for-unordered-categories.html"
   ]
  },
  {
   "cell_type": "code",
   "execution_count": 46,
   "metadata": {
    "scrolled": false
   },
   "outputs": [
    {
     "data": {
      "text/html": [
       "<div>\n",
       "<style scoped>\n",
       "    .dataframe tbody tr th:only-of-type {\n",
       "        vertical-align: middle;\n",
       "    }\n",
       "\n",
       "    .dataframe tbody tr th {\n",
       "        vertical-align: top;\n",
       "    }\n",
       "\n",
       "    .dataframe thead th {\n",
       "        text-align: right;\n",
       "    }\n",
       "</style>\n",
       "<table border=\"1\" class=\"dataframe\">\n",
       "  <thead>\n",
       "    <tr style=\"text-align: right;\">\n",
       "      <th></th>\n",
       "      <th>age</th>\n",
       "      <th>sex_n</th>\n",
       "      <th>bmi</th>\n",
       "      <th>children</th>\n",
       "      <th>smoker_n</th>\n",
       "      <th>southeast</th>\n",
       "      <th>northwest</th>\n",
       "      <th>southwest</th>\n",
       "    </tr>\n",
       "  </thead>\n",
       "  <tbody>\n",
       "    <tr>\n",
       "      <th>0</th>\n",
       "      <td>19</td>\n",
       "      <td>1</td>\n",
       "      <td>27.900</td>\n",
       "      <td>0</td>\n",
       "      <td>1</td>\n",
       "      <td>0.0</td>\n",
       "      <td>0.0</td>\n",
       "      <td>1.0</td>\n",
       "    </tr>\n",
       "    <tr>\n",
       "      <th>1</th>\n",
       "      <td>18</td>\n",
       "      <td>0</td>\n",
       "      <td>33.770</td>\n",
       "      <td>1</td>\n",
       "      <td>0</td>\n",
       "      <td>1.0</td>\n",
       "      <td>0.0</td>\n",
       "      <td>0.0</td>\n",
       "    </tr>\n",
       "    <tr>\n",
       "      <th>2</th>\n",
       "      <td>28</td>\n",
       "      <td>0</td>\n",
       "      <td>33.000</td>\n",
       "      <td>3</td>\n",
       "      <td>0</td>\n",
       "      <td>1.0</td>\n",
       "      <td>0.0</td>\n",
       "      <td>0.0</td>\n",
       "    </tr>\n",
       "    <tr>\n",
       "      <th>3</th>\n",
       "      <td>33</td>\n",
       "      <td>0</td>\n",
       "      <td>22.705</td>\n",
       "      <td>0</td>\n",
       "      <td>0</td>\n",
       "      <td>0.0</td>\n",
       "      <td>1.0</td>\n",
       "      <td>0.0</td>\n",
       "    </tr>\n",
       "    <tr>\n",
       "      <th>4</th>\n",
       "      <td>32</td>\n",
       "      <td>0</td>\n",
       "      <td>28.880</td>\n",
       "      <td>0</td>\n",
       "      <td>0</td>\n",
       "      <td>0.0</td>\n",
       "      <td>1.0</td>\n",
       "      <td>0.0</td>\n",
       "    </tr>\n",
       "    <tr>\n",
       "      <th>...</th>\n",
       "      <td>...</td>\n",
       "      <td>...</td>\n",
       "      <td>...</td>\n",
       "      <td>...</td>\n",
       "      <td>...</td>\n",
       "      <td>...</td>\n",
       "      <td>...</td>\n",
       "      <td>...</td>\n",
       "    </tr>\n",
       "    <tr>\n",
       "      <th>1333</th>\n",
       "      <td>50</td>\n",
       "      <td>0</td>\n",
       "      <td>30.970</td>\n",
       "      <td>3</td>\n",
       "      <td>0</td>\n",
       "      <td>0.0</td>\n",
       "      <td>1.0</td>\n",
       "      <td>0.0</td>\n",
       "    </tr>\n",
       "    <tr>\n",
       "      <th>1334</th>\n",
       "      <td>18</td>\n",
       "      <td>1</td>\n",
       "      <td>31.920</td>\n",
       "      <td>0</td>\n",
       "      <td>0</td>\n",
       "      <td>0.0</td>\n",
       "      <td>0.0</td>\n",
       "      <td>0.0</td>\n",
       "    </tr>\n",
       "    <tr>\n",
       "      <th>1335</th>\n",
       "      <td>18</td>\n",
       "      <td>1</td>\n",
       "      <td>36.850</td>\n",
       "      <td>0</td>\n",
       "      <td>0</td>\n",
       "      <td>1.0</td>\n",
       "      <td>0.0</td>\n",
       "      <td>0.0</td>\n",
       "    </tr>\n",
       "    <tr>\n",
       "      <th>1336</th>\n",
       "      <td>21</td>\n",
       "      <td>1</td>\n",
       "      <td>25.800</td>\n",
       "      <td>0</td>\n",
       "      <td>0</td>\n",
       "      <td>0.0</td>\n",
       "      <td>0.0</td>\n",
       "      <td>1.0</td>\n",
       "    </tr>\n",
       "    <tr>\n",
       "      <th>1337</th>\n",
       "      <td>61</td>\n",
       "      <td>1</td>\n",
       "      <td>29.070</td>\n",
       "      <td>0</td>\n",
       "      <td>1</td>\n",
       "      <td>0.0</td>\n",
       "      <td>1.0</td>\n",
       "      <td>0.0</td>\n",
       "    </tr>\n",
       "  </tbody>\n",
       "</table>\n",
       "<p>1338 rows × 8 columns</p>\n",
       "</div>"
      ],
      "text/plain": [
       "      age  sex_n     bmi  children  smoker_n  southeast  northwest  southwest\n",
       "0      19      1  27.900         0         1        0.0        0.0        1.0\n",
       "1      18      0  33.770         1         0        1.0        0.0        0.0\n",
       "2      28      0  33.000         3         0        1.0        0.0        0.0\n",
       "3      33      0  22.705         0         0        0.0        1.0        0.0\n",
       "4      32      0  28.880         0         0        0.0        1.0        0.0\n",
       "...   ...    ...     ...       ...       ...        ...        ...        ...\n",
       "1333   50      0  30.970         3         0        0.0        1.0        0.0\n",
       "1334   18      1  31.920         0         0        0.0        0.0        0.0\n",
       "1335   18      1  36.850         0         0        1.0        0.0        0.0\n",
       "1336   21      1  25.800         0         0        0.0        0.0        1.0\n",
       "1337   61      1  29.070         0         1        0.0        1.0        0.0\n",
       "\n",
       "[1338 rows x 8 columns]"
      ]
     },
     "execution_count": 46,
     "metadata": {},
     "output_type": "execute_result"
    }
   ],
   "source": [
    "x_lean= x[['age', 'sex_n', 'bmi', 'children', 'smoker_n', 'southeast','northwest','southwest']]\n",
    "x_lean"
   ]
  },
  {
   "cell_type": "markdown",
   "metadata": {},
   "source": [
    "# 3. Exploring predictors - Simple Linear Regression"
   ]
  },
  {
   "cell_type": "markdown",
   "metadata": {},
   "source": [
    "I will explore each predictor to uncover any interesting characteristics."
   ]
  },
  {
   "cell_type": "markdown",
   "metadata": {},
   "source": [
    "##  a. age \n",
    "First, I would like to find a correlation between age and charges. "
   ]
  },
  {
   "cell_type": "code",
   "execution_count": 47,
   "metadata": {},
   "outputs": [
    {
     "name": "stdout",
     "output_type": "stream",
     "text": [
      "p-value:1.561377623951052e-13 is less than .05. We can conclude that there's some relationship between age and charges\n"
     ]
    },
    {
     "data": {
      "text/plain": [
       "Text(20, 22000, 'P value = 1.561377623951052e-13\\nR squared = 0.7056733914929724')"
      ]
     },
     "execution_count": 47,
     "metadata": {},
     "output_type": "execute_result"
    },
    {
     "data": {
      "image/png": "[encoded data removed]",
      "text/plain": [
       "<Figure size 604.8x504 with 1 Axes>"
      ]
     },
     "metadata": {
      "needs_background": "light"
     },
     "output_type": "display_data"
    }
   ],
   "source": [
    "#average Charges by age\n",
    "avg_by_age = insurance.groupby('age').charges.mean().reset_index()\n",
    "\n",
    "#linear regression equation bewteen age and charges\n",
    "slope, intercept, r_value,p_value,std_err = stats.linregress(avg_by_age.age,avg_by_age.charges)\n",
    "line_equation = f' y = {slope:.2f}x+{intercept:.0f}'\n",
    "\n",
    "#Hypothesis test on the coefficient\n",
    "if p_value <.05:\n",
    "    print(\"p-value:{} is less than .05. We can conclude that there's some relationship between age and charges\".format(p_value))\n",
    "else:\n",
    "    print(\"p-value:{} is greater than .05. We can't conclude that there's some relationship between age and charges\".format(p_value))\n",
    "  \n",
    "\n",
    "#text in textbox \n",
    "line_equation = f' y = {slope:.2f}x+{intercept:.0f}'\n",
    "r_p_value = f\"\"\"P value = {p_value}\n",
    "R squared = {r_value**2}\"\"\"\n",
    "\n",
    "#Textbox properties\n",
    "box = dict(boxstyle='round', facecolor='white', alpha=1)\n",
    "box2 = dict(boxstyle='round', facecolor='whitesmoke', alpha=.5)\n",
    "\n",
    "\n",
    "#plot age vs charges\n",
    "graph_age = sns.lmplot(data = avg_by_age, x = 'age', y='charges',line_kws = {'color':'red'},height=7,aspect = 1.2,scatter_kws = {'color':'black'})\n",
    "plt.xlabel('Age',fontsize =20,fontname = 'Times New Roman')\n",
    "plt.ylabel('Insurance Charges($)',fontsize = 22,fontname = 'Times New Roman')\n",
    "plt.title(\" Correlation Between Age and Insurance Charges\",fontsize= 24,fontname = 'Times New Roman')\n",
    "plt.text(52,17500,line_equation,fontsize=20,color='darkblue',fontname = 'Times New Roman',bbox=box)\n",
    "plt.text(20,22000,r_p_value,fontsize=20,color='black',fontname = 'Times New Roman',bbox=box2)\n"
   ]
  },
  {
   "cell_type": "markdown",
   "metadata": {},
   "source": [
    "<b>Conclusion: <br>The above graph clearly indicates that there is a positive correction and the p-value is less than .05. Thus, this variable is statistically significant at 5% level. R_squared is also pretty high around 71%. This means that 71% of the variability in insurance charges can be explained by age: the older you are the more you pay for the insurance. The linear regression equation suggests that you get 1 year older, the charge will be increased by $264.83.  "
   ]
  },
  {
   "cell_type": "markdown",
   "metadata": {},
   "source": [
    "## b. bmi \n",
    "BMI stands for Body Mass Index. This variable is expected to have a high correlation with insurance charages. Let's see if that's the case!"
   ]
  },
  {
   "cell_type": "code",
   "execution_count": 48,
   "metadata": {
    "scrolled": false
   },
   "outputs": [
    {
     "name": "stdout",
     "output_type": "stream",
     "text": [
      "p-value:2.1666931918269805e-10 is less than .05. We can conclude that there's some relationship between BMI and charges\n"
     ]
    },
    {
     "data": {
      "text/plain": [
       "Text(15, 59000, 'P value = 2.1666931918269805e-10\\nR squared = 0.07123127111893408')"
      ]
     },
     "execution_count": 48,
     "metadata": {},
     "output_type": "execute_result"
    },
    {
     "data": {
      "image/png": "[encoded data removed]",
      "text/plain": [
       "<Figure size 604.8x504 with 1 Axes>"
      ]
     },
     "metadata": {
      "needs_background": "light"
     },
     "output_type": "display_data"
    }
   ],
   "source": [
    "#average Charges by bmi\n",
    "avg_by_bmi = insurance.groupby('bmi').charges.mean().reset_index()\n",
    "\n",
    "#linear regression equation bewteen age and charges\n",
    "slope, intercept, r_value,p_value,std_err = stats.linregress(avg_by_bmi.bmi,avg_by_bmi.charges)\n",
    "\n",
    "\n",
    "#Hypothesis test on the coefficient\n",
    "if p_value <.05:\n",
    "    print(\"p-value:{} is less than .05. We can conclude that there's some relationship between BMI and charges\".format(p_value))\n",
    "else:\n",
    "    print(\"p-value:{} is greater than .05. We can't conclude that there's some relationship between BMI and charges\".format(p_value))\n",
    "    \n",
    "#text in textbox \n",
    "line_equation = f' y = {slope:.2f}x+{intercept:.0f}'\n",
    "r_p_value = f\"\"\"P value = {p_value}\n",
    "R squared = {r_value**2}\"\"\"\n",
    "\n",
    "#Textbox properties\n",
    "box = dict(boxstyle='round', facecolor='white', alpha=1)\n",
    "box2 = dict(boxstyle='round', facecolor='whitesmoke', alpha=.5)\n",
    "\n",
    "#plot age vs charges\n",
    "graph_age = sns.lmplot(data = avg_by_bmi, x = 'bmi', y='charges',line_kws = {'color':'red'},height=7,aspect = 1.2,scatter_kws= {'color':'black'})\n",
    "plt.xlabel('BMI',fontsize =20,fontname = 'Times New Roman')\n",
    "plt.ylabel('Insurance Charges($)',fontsize = 22,fontname = 'Times New Roman')\n",
    "plt.title(\" Correlation Between BMI and Insurance Charges\",fontsize= 24,fontname = 'Times New Roman')\n",
    "plt.text(47,20000,line_equation,fontsize=20,color='darkblue',fontname = 'Times New Roman',bbox=box)\n",
    "plt.text(15,59000,r_p_value,fontsize=20,color='black',fontname = 'Times New Roman',bbox=box2)"
   ]
  },
  {
   "cell_type": "markdown",
   "metadata": {},
   "source": [
    "<b>Conclusion: <br> \n",
    "The above graph shows that there is a positive correction between BMI and insurance charge and the p-value is less than .05 so this variable is statistically significant at 5% level. However, $r^2$ is only 7%. This means that only 7% of the variation in insurance charges is explained by BMI, which suggeat that there are many other factors that might be affecting insurance charges. This is interesting because I  thought that BMI would be a great indicator of his/her wellness, which would be highly associated with insurance costs. This is not the case within this dataset. "
   ]
  },
  {
   "cell_type": "markdown",
   "metadata": {},
   "source": [
    "## c. sex \n",
    "The sex variable is a qualitative predictor with two levels.I will plot a side-by-side box plot and compare their means to see if there's a significant difference. "
   ]
  },
  {
   "cell_type": "code",
   "execution_count": 49,
   "metadata": {},
   "outputs": [
    {
     "data": {
      "text/plain": [
       "<AxesSubplot:xlabel='sex', ylabel='charges'>"
      ]
     },
     "execution_count": 49,
     "metadata": {},
     "output_type": "execute_result"
    },
    {
     "data": {
      "image/png": "[encoded data removed]",
      "text/plain": [
       "<Figure size 432x288 with 1 Axes>"
      ]
     },
     "metadata": {
      "needs_background": "light"
     },
     "output_type": "display_data"
    }
   ],
   "source": [
    "sns.boxplot(data = insurance, x = 'sex', y ='charges')"
   ]
  },
  {
   "cell_type": "code",
   "execution_count": 50,
   "metadata": {},
   "outputs": [],
   "source": [
    "#find average charges of male and female\n",
    "mean_male = np.mean(insurance.charges[insurance.sex == 'male'])\n",
    "mean_female = np.mean(insurance.charges[insurance.sex == 'female'])"
   ]
  },
  {
   "cell_type": "code",
   "execution_count": 51,
   "metadata": {
    "scrolled": true
   },
   "outputs": [
    {
     "name": "stdout",
     "output_type": "stream",
     "text": [
      "The average insurance charge for male is 13956.751177721886 and the average insurance charge for female is 12569.57884383534\n"
     ]
    }
   ],
   "source": [
    "print('The average insurance charge for male is {} and the average insurance charge for female is {}'.format(mean_male,mean_female))"
   ]
  },
  {
   "cell_type": "code",
   "execution_count": 52,
   "metadata": {},
   "outputs": [
    {
     "data": {
      "text/html": [
       "<div>\n",
       "<style scoped>\n",
       "    .dataframe tbody tr th:only-of-type {\n",
       "        vertical-align: middle;\n",
       "    }\n",
       "\n",
       "    .dataframe tbody tr th {\n",
       "        vertical-align: top;\n",
       "    }\n",
       "\n",
       "    .dataframe thead th {\n",
       "        text-align: right;\n",
       "    }\n",
       "</style>\n",
       "<table border=\"1\" class=\"dataframe\">\n",
       "  <thead>\n",
       "    <tr style=\"text-align: right;\">\n",
       "      <th></th>\n",
       "      <th>age</th>\n",
       "      <th>sex</th>\n",
       "      <th>bmi</th>\n",
       "      <th>children</th>\n",
       "      <th>smoker</th>\n",
       "      <th>region</th>\n",
       "      <th>sex_n</th>\n",
       "      <th>smoker_n</th>\n",
       "      <th>region_label</th>\n",
       "      <th>northeast</th>\n",
       "      <th>northwest</th>\n",
       "      <th>southeast</th>\n",
       "      <th>southwest</th>\n",
       "      <th>charges</th>\n",
       "    </tr>\n",
       "  </thead>\n",
       "  <tbody>\n",
       "    <tr>\n",
       "      <th>0</th>\n",
       "      <td>19</td>\n",
       "      <td>female</td>\n",
       "      <td>27.900</td>\n",
       "      <td>0</td>\n",
       "      <td>yes</td>\n",
       "      <td>southwest</td>\n",
       "      <td>1</td>\n",
       "      <td>1</td>\n",
       "      <td>3</td>\n",
       "      <td>0.0</td>\n",
       "      <td>0.0</td>\n",
       "      <td>0.0</td>\n",
       "      <td>1.0</td>\n",
       "      <td>16884.92400</td>\n",
       "    </tr>\n",
       "    <tr>\n",
       "      <th>1</th>\n",
       "      <td>18</td>\n",
       "      <td>male</td>\n",
       "      <td>33.770</td>\n",
       "      <td>1</td>\n",
       "      <td>no</td>\n",
       "      <td>southeast</td>\n",
       "      <td>0</td>\n",
       "      <td>0</td>\n",
       "      <td>2</td>\n",
       "      <td>0.0</td>\n",
       "      <td>0.0</td>\n",
       "      <td>1.0</td>\n",
       "      <td>0.0</td>\n",
       "      <td>1725.55230</td>\n",
       "    </tr>\n",
       "    <tr>\n",
       "      <th>2</th>\n",
       "      <td>28</td>\n",
       "      <td>male</td>\n",
       "      <td>33.000</td>\n",
       "      <td>3</td>\n",
       "      <td>no</td>\n",
       "      <td>southeast</td>\n",
       "      <td>0</td>\n",
       "      <td>0</td>\n",
       "      <td>2</td>\n",
       "      <td>0.0</td>\n",
       "      <td>0.0</td>\n",
       "      <td>1.0</td>\n",
       "      <td>0.0</td>\n",
       "      <td>4449.46200</td>\n",
       "    </tr>\n",
       "    <tr>\n",
       "      <th>3</th>\n",
       "      <td>33</td>\n",
       "      <td>male</td>\n",
       "      <td>22.705</td>\n",
       "      <td>0</td>\n",
       "      <td>no</td>\n",
       "      <td>northwest</td>\n",
       "      <td>0</td>\n",
       "      <td>0</td>\n",
       "      <td>1</td>\n",
       "      <td>0.0</td>\n",
       "      <td>1.0</td>\n",
       "      <td>0.0</td>\n",
       "      <td>0.0</td>\n",
       "      <td>21984.47061</td>\n",
       "    </tr>\n",
       "    <tr>\n",
       "      <th>4</th>\n",
       "      <td>32</td>\n",
       "      <td>male</td>\n",
       "      <td>28.880</td>\n",
       "      <td>0</td>\n",
       "      <td>no</td>\n",
       "      <td>northwest</td>\n",
       "      <td>0</td>\n",
       "      <td>0</td>\n",
       "      <td>1</td>\n",
       "      <td>0.0</td>\n",
       "      <td>1.0</td>\n",
       "      <td>0.0</td>\n",
       "      <td>0.0</td>\n",
       "      <td>3866.85520</td>\n",
       "    </tr>\n",
       "    <tr>\n",
       "      <th>...</th>\n",
       "      <td>...</td>\n",
       "      <td>...</td>\n",
       "      <td>...</td>\n",
       "      <td>...</td>\n",
       "      <td>...</td>\n",
       "      <td>...</td>\n",
       "      <td>...</td>\n",
       "      <td>...</td>\n",
       "      <td>...</td>\n",
       "      <td>...</td>\n",
       "      <td>...</td>\n",
       "      <td>...</td>\n",
       "      <td>...</td>\n",
       "      <td>...</td>\n",
       "    </tr>\n",
       "    <tr>\n",
       "      <th>1333</th>\n",
       "      <td>50</td>\n",
       "      <td>male</td>\n",
       "      <td>30.970</td>\n",
       "      <td>3</td>\n",
       "      <td>no</td>\n",
       "      <td>northwest</td>\n",
       "      <td>0</td>\n",
       "      <td>0</td>\n",
       "      <td>1</td>\n",
       "      <td>0.0</td>\n",
       "      <td>1.0</td>\n",
       "      <td>0.0</td>\n",
       "      <td>0.0</td>\n",
       "      <td>10600.54830</td>\n",
       "    </tr>\n",
       "    <tr>\n",
       "      <th>1334</th>\n",
       "      <td>18</td>\n",
       "      <td>female</td>\n",
       "      <td>31.920</td>\n",
       "      <td>0</td>\n",
       "      <td>no</td>\n",
       "      <td>northeast</td>\n",
       "      <td>1</td>\n",
       "      <td>0</td>\n",
       "      <td>0</td>\n",
       "      <td>1.0</td>\n",
       "      <td>0.0</td>\n",
       "      <td>0.0</td>\n",
       "      <td>0.0</td>\n",
       "      <td>2205.98080</td>\n",
       "    </tr>\n",
       "    <tr>\n",
       "      <th>1335</th>\n",
       "      <td>18</td>\n",
       "      <td>female</td>\n",
       "      <td>36.850</td>\n",
       "      <td>0</td>\n",
       "      <td>no</td>\n",
       "      <td>southeast</td>\n",
       "      <td>1</td>\n",
       "      <td>0</td>\n",
       "      <td>2</td>\n",
       "      <td>0.0</td>\n",
       "      <td>0.0</td>\n",
       "      <td>1.0</td>\n",
       "      <td>0.0</td>\n",
       "      <td>1629.83350</td>\n",
       "    </tr>\n",
       "    <tr>\n",
       "      <th>1336</th>\n",
       "      <td>21</td>\n",
       "      <td>female</td>\n",
       "      <td>25.800</td>\n",
       "      <td>0</td>\n",
       "      <td>no</td>\n",
       "      <td>southwest</td>\n",
       "      <td>1</td>\n",
       "      <td>0</td>\n",
       "      <td>3</td>\n",
       "      <td>0.0</td>\n",
       "      <td>0.0</td>\n",
       "      <td>0.0</td>\n",
       "      <td>1.0</td>\n",
       "      <td>2007.94500</td>\n",
       "    </tr>\n",
       "    <tr>\n",
       "      <th>1337</th>\n",
       "      <td>61</td>\n",
       "      <td>female</td>\n",
       "      <td>29.070</td>\n",
       "      <td>0</td>\n",
       "      <td>yes</td>\n",
       "      <td>northwest</td>\n",
       "      <td>1</td>\n",
       "      <td>1</td>\n",
       "      <td>1</td>\n",
       "      <td>0.0</td>\n",
       "      <td>1.0</td>\n",
       "      <td>0.0</td>\n",
       "      <td>0.0</td>\n",
       "      <td>29141.36030</td>\n",
       "    </tr>\n",
       "  </tbody>\n",
       "</table>\n",
       "<p>1338 rows × 14 columns</p>\n",
       "</div>"
      ],
      "text/plain": [
       "      age     sex     bmi  children smoker     region  sex_n  smoker_n  \\\n",
       "0      19  female  27.900         0    yes  southwest      1         1   \n",
       "1      18    male  33.770         1     no  southeast      0         0   \n",
       "2      28    male  33.000         3     no  southeast      0         0   \n",
       "3      33    male  22.705         0     no  northwest      0         0   \n",
       "4      32    male  28.880         0     no  northwest      0         0   \n",
       "...   ...     ...     ...       ...    ...        ...    ...       ...   \n",
       "1333   50    male  30.970         3     no  northwest      0         0   \n",
       "1334   18  female  31.920         0     no  northeast      1         0   \n",
       "1335   18  female  36.850         0     no  southeast      1         0   \n",
       "1336   21  female  25.800         0     no  southwest      1         0   \n",
       "1337   61  female  29.070         0    yes  northwest      1         1   \n",
       "\n",
       "      region_label  northeast  northwest  southeast  southwest      charges  \n",
       "0                3        0.0        0.0        0.0        1.0  16884.92400  \n",
       "1                2        0.0        0.0        1.0        0.0   1725.55230  \n",
       "2                2        0.0        0.0        1.0        0.0   4449.46200  \n",
       "3                1        0.0        1.0        0.0        0.0  21984.47061  \n",
       "4                1        0.0        1.0        0.0        0.0   3866.85520  \n",
       "...            ...        ...        ...        ...        ...          ...  \n",
       "1333             1        0.0        1.0        0.0        0.0  10600.54830  \n",
       "1334             0        1.0        0.0        0.0        0.0   2205.98080  \n",
       "1335             2        0.0        0.0        1.0        0.0   1629.83350  \n",
       "1336             3        0.0        0.0        0.0        1.0   2007.94500  \n",
       "1337             1        0.0        1.0        0.0        0.0  29141.36030  \n",
       "\n",
       "[1338 rows x 14 columns]"
      ]
     },
     "execution_count": 52,
     "metadata": {},
     "output_type": "execute_result"
    }
   ],
   "source": [
    "#concatenate predictors with charge \n",
    "x_lean_charge = pd.concat([x,y],axis=1)\n",
    "x_lean_charge"
   ]
  },
  {
   "cell_type": "code",
   "execution_count": 68,
   "metadata": {},
   "outputs": [
    {
     "name": "stdout",
     "output_type": "stream",
     "text": [
      "r_squred value is 0.0032823803913607508\n",
      "p-value:0.036132721005929666 is less than .05. We can conclude that there's some relationship between sex and charges\n"
     ]
    }
   ],
   "source": [
    "#linear regression equation bewteen sex and charges\n",
    "slope, intercept, r_value2,p_value,std_err = stats.linregress(x_lean_charge.sex_n,x_lean_charge.charges)\n",
    "\n",
    "#print r_squared_value\n",
    "print('r_squred value is {}'.format(r_value2**2))\n",
    "\n",
    "#Hypothesis test on the coefficient\n",
    "if p_value <.05:\n",
    "    print(\"p-value:{} is less than .05. We can conclude that there's some relationship between sex and charges\".format(p_value))\n",
    "else:\n",
    "    print(\"p-value:{} is greater than .05. We can't conclude that there's some relationship between sex and charges\".format(p_value))"
   ]
  },
  {
   "cell_type": "markdown",
   "metadata": {},
   "source": [
    "<b>Conclusion: <br> \n",
    "Looking at the plot, there is a lot of overlap between the boxes. Thus, we can be confident that there is not much difference between the insurance charges of the two groups. In addtion, $r^2$ is only 3%, further confirming that there's not much of association between sex and insurance charges. "
   ]
  },
  {
   "cell_type": "markdown",
   "metadata": {},
   "source": [
    "## d. children"
   ]
  },
  {
   "cell_type": "code",
   "execution_count": 54,
   "metadata": {},
   "outputs": [
    {
     "name": "stdout",
     "output_type": "stream",
     "text": [
      "0.012852128520136412 is less than .05. We can conclude that there's some relationship between children and charges\n"
     ]
    },
    {
     "data": {
      "text/plain": [
       "Text(0.2, 58000, 'P value = 0.012852128520136412\\nR squared = 0.004623758854459131')"
      ]
     },
     "execution_count": 54,
     "metadata": {},
     "output_type": "execute_result"
    },
    {
     "data": {
      "image/png": "[encoded data removed]",
      "text/plain": [
       "<Figure size 604.8x504 with 1 Axes>"
      ]
     },
     "metadata": {
      "needs_background": "light"
     },
     "output_type": "display_data"
    }
   ],
   "source": [
    "#linear regression equation bewteen children and charges\n",
    "slope, intercept, r_value,p_value,std_err = stats.linregress(x_lean_charge.children,x_lean_charge.charges)\n",
    "\n",
    "\n",
    "#Hypothesis test on the coefficient\n",
    "if p_value <.05:\n",
    "    print(\"{} is less than .05. We can conclude that there's some relationship between children and charges\".format(p_value))\n",
    "else:\n",
    "    print(\"{} is greater than .05. We can't conclude that there's some relationship between children and charges\".format(p_value))\n",
    "    \n",
    "#text in textbox \n",
    "line_equation = f' y = {slope:.2f}x+{intercept:.0f}'\n",
    "r_p_value = f\"\"\"P value = {p_value}\n",
    "R squared = {r_value**2}\"\"\"\n",
    "\n",
    "#Textbox properties\n",
    "box = dict(boxstyle='round', facecolor='white', alpha=1)\n",
    "box2 = dict(boxstyle='round', facecolor='whitesmoke', alpha=.5)\n",
    "\n",
    "#plot age vs charges\n",
    "graph_sex = sns.lmplot(data = x_lean_charge, x = 'children', y='charges',line_kws = {'color':'red'},height=7,aspect = 1.2,scatter_kws= {'color':'black'})\n",
    "plt.xlabel('Children',fontsize =20,fontname = 'Times New Roman')\n",
    "plt.ylabel('Insurance Charges($)',fontsize = 22,fontname = 'Times New Roman')\n",
    "plt.title(\" Correlation Between Number of Children and Insurance Charges\",fontsize= 24,fontname = 'Times New Roman')\n",
    "plt.text(.6,17500,line_equation,fontsize=20,color='darkblue',fontname = 'Times New Roman',bbox=box)\n",
    "plt.text(0.2,58000,r_p_value,fontsize=20,color='black',fontname = 'Times New Roman',bbox=box2)"
   ]
  },
  {
   "cell_type": "markdown",
   "metadata": {},
   "source": [
    "<b>Conclusion: <br>We can reach a similiar conclusion as sex. It is statistcally significant, but the r_sqaured is only 0.4% "
   ]
  },
  {
   "cell_type": "markdown",
   "metadata": {},
   "source": [
    "## e. Smoker\n",
    "Since 'smoker' is also binary categorical variable, I will use a boxplot and compare the average charges between smoker and non-smoker groups. "
   ]
  },
  {
   "cell_type": "code",
   "execution_count": 55,
   "metadata": {
    "scrolled": true
   },
   "outputs": [
    {
     "data": {
      "text/plain": [
       "<AxesSubplot:xlabel='smoker', ylabel='charges'>"
      ]
     },
     "execution_count": 55,
     "metadata": {},
     "output_type": "execute_result"
    },
    {
     "data": {
      "image/png": "[encoded data removed]",
      "text/plain": [
       "<Figure size 432x288 with 1 Axes>"
      ]
     },
     "metadata": {
      "needs_background": "light"
     },
     "output_type": "display_data"
    }
   ],
   "source": [
    "sns.boxplot(data = insurance, x = 'smoker', y ='charges')"
   ]
  },
  {
   "cell_type": "code",
   "execution_count": 56,
   "metadata": {},
   "outputs": [],
   "source": [
    "#find average charges of smokers and non-smokers\n",
    "mean_smoker = np.mean(insurance.charges[insurance.smoker == 'yes'])\n",
    "mean_non_smoker = np.mean(insurance.charges[insurance.smoker == 'no'])"
   ]
  },
  {
   "cell_type": "code",
   "execution_count": 57,
   "metadata": {},
   "outputs": [
    {
     "name": "stdout",
     "output_type": "stream",
     "text": [
      "The average insurance charge for smokers is 32050.23183153285 and the average insurance charge for non-smokers is 8434.268297856199\n"
     ]
    }
   ],
   "source": [
    "print('The average insurance charge for smokers is {} and the average insurance charge for non-smokers is {}'.format(mean_smoker,mean_non_smoker))"
   ]
  },
  {
   "cell_type": "code",
   "execution_count": 58,
   "metadata": {},
   "outputs": [
    {
     "name": "stdout",
     "output_type": "stream",
     "text": [
      "8.271435842179102e-283 is less than .05. We can conclude that there's some relationship between smoker and charges\n",
      "Linear equation between smoker and insurance charges: y = 23615.96x+8434\n"
     ]
    }
   ],
   "source": [
    "#linear regression equation bewteen children and charges\n",
    "slope, intercept, r_value,p_value,std_err = stats.linregress(x_lean_charge.smoker_n,x_lean_charge.charges)\n",
    "\n",
    "\n",
    "#Hypothesis test on the coefficient\n",
    "if p_value <.05:\n",
    "    print(\"{} is less than .05. We can conclude that there's some relationship between smoker and charges\".format(p_value))\n",
    "else:\n",
    "    print(\"{} is greater than .05. We can't conclude that there's some relationship between smoker and charges\".format(p_value))\n",
    "\n",
    "    \n",
    "#text in textbox \n",
    "line_equation = f' y = {slope:.2f}x+{intercept:.0f}'\n",
    "r_p_value = f\"\"\"P value = {p_value}\n",
    "R squared = {r_value**2}\"\"\"\n",
    "\n",
    "print(\"Linear equation between smoker and insurance charges:{}\".format(line_equation))\n",
    "\n"
   ]
  },
  {
   "cell_type": "markdown",
   "metadata": {},
   "source": [
    "<b>Conclusion: <br> Look at the plot! The boxes don't overlap at all. The middel 50% are significantly different for the two groups. If you are a smoker, you have to pay $23615 more!! Quit smoking today to be finacially free!\n",
    " "
   ]
  },
  {
   "cell_type": "markdown",
   "metadata": {},
   "source": [
    "## <b> Chapter Summary\n",
    "age, smoker = high effect on insurance charges <br>\n",
    "sex, bmi, children = low effect on insurance charges<br>\n",
    "\n",
    "Even though the bottom 3 variables have low effect on insurance charges, I will use them for my multiple linear regression since they are at least statistically significant. \n",
    "    "
   ]
  },
  {
   "cell_type": "markdown",
   "metadata": {},
   "source": [
    "# 4. Statistical Method - Multiple Regression Model"
   ]
  },
  {
   "cell_type": "code",
   "execution_count": 59,
   "metadata": {},
   "outputs": [
    {
     "data": {
      "text/plain": [
       "<AxesSubplot:>"
      ]
     },
     "execution_count": 59,
     "metadata": {},
     "output_type": "execute_result"
    },
    {
     "data": {
      "image/png": "[encoded data removed]",
      "text/plain": [
       "<Figure size 720x360 with 2 Axes>"
      ]
     },
     "metadata": {
      "needs_background": "light"
     },
     "output_type": "display_data"
    }
   ],
   "source": [
    "#Correlations between my predictors \n",
    "f,ax = plt.subplots(figsize= (10,5))\n",
    "corr = x_lean.corr()\n",
    "sns.heatmap(corr, cmap = 'inferno',annot = True)\n"
   ]
  },
  {
   "cell_type": "markdown",
   "metadata": {},
   "source": [
    "I check if there's any multicolliearity. None of predictors have high correlation among themselves"
   ]
  },
  {
   "cell_type": "markdown",
   "metadata": {},
   "source": [
    "Before building a model, I will split the data into the training set and the test set. 80% of the data were allocated to the training set"
   ]
  },
  {
   "cell_type": "code",
   "execution_count": 60,
   "metadata": {},
   "outputs": [
    {
     "name": "stdout",
     "output_type": "stream",
     "text": [
      "(1070, 8)\n",
      "(268, 8)\n"
     ]
    }
   ],
   "source": [
    "#split the data into training and testing\n",
    "x_train,x_test,y_train,y_test = train_test_split(x_lean,y,train_size=.8,random_state=5)\n",
    "\n",
    "#verifying the training and testing data\n",
    "print(x_train.shape)\n",
    "print(x_test.shape)"
   ]
  },
  {
   "cell_type": "markdown",
   "metadata": {},
   "source": [
    "Creating a multiple linear regression model and fit it to my x_train and y_train."
   ]
  },
  {
   "cell_type": "code",
   "execution_count": 61,
   "metadata": {
    "scrolled": true
   },
   "outputs": [
    {
     "data": {
      "text/plain": [
       "LinearRegression()"
      ]
     },
     "execution_count": 61,
     "metadata": {},
     "output_type": "execute_result"
    }
   ],
   "source": [
    "#create an object \n",
    "mlr = LinearRegression()\n",
    "\n",
    "#fit the data\n",
    "mlr.fit(x_train,y_train)"
   ]
  },
  {
   "cell_type": "code",
   "execution_count": 62,
   "metadata": {},
   "outputs": [
    {
     "data": {
      "text/plain": [
       "array([  256.94295222,   253.53277438,   337.67931668,   552.8415818 ,\n",
       "       23660.10485472,  -845.43390866,    56.31627462,  -845.69969435])"
      ]
     },
     "execution_count": 62,
     "metadata": {},
     "output_type": "execute_result"
    }
   ],
   "source": [
    "#find the coefficient of predictors\n",
    "mlr.coef_"
   ]
  },
  {
   "cell_type": "code",
   "execution_count": 63,
   "metadata": {
    "scrolled": true
   },
   "outputs": [
    {
     "data": {
      "text/plain": [
       "-12245.751412255424"
      ]
     },
     "execution_count": 63,
     "metadata": {},
     "output_type": "execute_result"
    }
   ],
   "source": [
    "#find the intercept\n",
    "mlr.intercept_"
   ]
  },
  {
   "cell_type": "markdown",
   "metadata": {},
   "source": [
    "### Evaluating the Model Accuracy \n",
    "\n",
    "Let's find out what the coefficient of determination $r^{2}$ with the test data"
   ]
  },
  {
   "cell_type": "code",
   "execution_count": 64,
   "metadata": {},
   "outputs": [
    {
     "data": {
      "text/plain": [
       "0.778109660422383"
      ]
     },
     "execution_count": 64,
     "metadata": {},
     "output_type": "execute_result"
    }
   ],
   "source": [
    "#find the coefficient of determination\n",
    "mlr.score(x_test,y_test)"
   ]
  },
  {
   "cell_type": "markdown",
   "metadata": {},
   "source": [
    "I will predict insurance charges by plugging the x_test data into my model. The result will be compared against y_test to see how close they are! "
   ]
  },
  {
   "cell_type": "code",
   "execution_count": 65,
   "metadata": {},
   "outputs": [],
   "source": [
    "predicted_y = mlr.predict(x_test)"
   ]
  },
  {
   "cell_type": "code",
   "execution_count": 66,
   "metadata": {},
   "outputs": [
    {
     "data": {
      "text/plain": [
       "array([ 2.80196712e+03,  2.76539583e+04,  1.18270033e+04,  4.97128202e+03,\n",
       "        8.26020179e+03,  3.49800170e+04,  1.17617005e+04,  1.10656352e+04,\n",
       "        8.36519245e+03,  1.11807200e+04,  1.54682184e+04,  1.09007670e+04,\n",
       "        5.01084263e+03,  9.23711837e+03,  8.29646110e+03,  8.89074300e+03,\n",
       "        3.16202402e+04,  1.29482537e+04,  1.32884644e+04,  7.53128170e+03,\n",
       "        2.86085344e+04,  2.19240932e+03,  3.24354449e+03,  3.79492040e+03,\n",
       "        2.49018569e+03,  9.70392727e+03,  3.68406266e+04,  1.70945706e+04,\n",
       "        1.08592745e+04,  1.40876899e+04,  1.33068247e+04,  1.19355775e+03,\n",
       "        5.92173822e+03,  1.07504608e+04,  3.11483102e+04,  4.12584954e+03,\n",
       "        6.66635109e+03,  2.80617764e+03,  6.49691422e+03,  5.82769295e+03,\n",
       "        3.22789584e+03,  3.72470599e+04,  3.06074251e+04,  3.01806687e+04,\n",
       "        1.05504381e+04,  7.59258815e+03,  3.50081453e+04,  3.46932792e+03,\n",
       "        1.90740969e+04,  5.29663474e+03,  1.03836281e+04,  2.86003715e+04,\n",
       "        3.65718423e+03,  4.35025875e+03,  9.76875757e+02,  7.24808385e+03,\n",
       "        3.65488830e+04,  3.15668204e+03,  1.07762116e+04,  1.22239167e+04,\n",
       "        1.23182227e+04,  2.90788200e+04,  3.54223162e+04,  2.90007362e+03,\n",
       "        8.29922743e+03,  4.70673940e+03,  6.50217758e+02,  1.16078971e+04,\n",
       "        1.36358498e+04,  3.55752244e+04,  3.41147829e+03,  1.70224224e+04,\n",
       "        2.54701031e+03,  1.64151630e+03,  8.06223447e+03,  1.10384450e+04,\n",
       "        1.15326749e+04,  3.45296845e+04,  1.42082936e+04,  7.16732681e+03,\n",
       "        4.30619267e+03,  2.82613996e+04,  1.38218467e+04,  2.16037642e+03,\n",
       "        6.78372651e+03,  3.17355120e+04,  8.59673586e+03,  4.22408731e+03,\n",
       "        8.07658716e+03,  1.52703885e+04,  7.43838528e+03,  1.52514160e+04,\n",
       "        1.76243847e+03,  5.15138470e+03,  5.93483122e+03,  2.49261581e+04,\n",
       "        3.85044907e+03,  5.08635104e+03,  7.55928334e+03,  1.36316068e+04,\n",
       "        3.13997529e+04,  3.15917220e+03,  2.63870386e+04,  1.13704623e+04,\n",
       "        1.21787350e+04,  1.15967971e+04,  7.61308759e+03,  4.23080341e+03,\n",
       "        8.03945946e+03,  2.67538913e+04,  1.57650618e+04,  3.35432491e+04,\n",
       "        3.54566196e+03,  2.69972566e+04,  3.95669117e+03,  8.41489828e+03,\n",
       "        6.66393452e+03,  4.98108959e+03,  9.44443963e+03,  3.03570120e+04,\n",
       "        2.96918373e+03,  2.69149023e+04,  1.07023796e+04,  9.64090231e+03,\n",
       "        3.92597754e+03,  1.27741657e+04,  5.73621664e+03,  6.97064274e+03,\n",
       "        1.17946638e+04,  3.22191117e+04,  3.35932158e+03,  1.63228128e+04,\n",
       "        2.63582972e+04,  5.82652816e+03,  3.54850081e+04,  7.83077660e+03,\n",
       "        1.96593610e+03,  2.68944897e+03,  3.38736237e+03,  2.18693194e+03,\n",
       "        8.86008176e+03,  4.87825766e+03,  3.56305046e+04,  7.24505462e+03,\n",
       "        8.13488728e+02,  5.73716483e+03,  1.38975627e+04,  1.28265761e+04,\n",
       "        1.11143774e+04,  9.75399672e+03,  4.05985256e+03,  1.63564347e+04,\n",
       "        3.40532021e+04,  2.74436757e+04,  3.37284577e+04,  5.77280959e+03,\n",
       "        4.66258016e+03,  3.99211751e+01,  1.20525267e+04,  4.46583413e+03,\n",
       "        6.60585073e+03,  2.30317438e+04,  3.70221964e+04,  9.70914932e+03,\n",
       "        5.53731229e+03,  1.69379456e+04,  1.20882227e+04,  1.44096872e+04,\n",
       "        9.54517006e+03,  8.10754854e+03,  7.27333244e+03,  1.07784050e+04,\n",
       "        1.07517318e+04,  9.76537130e+02,  9.40182774e+03,  2.87517222e+04,\n",
       "        8.42986742e+03,  1.31796407e+04,  9.62292837e+03,  6.03011302e+03,\n",
       "        1.02850560e+04,  1.16037101e+04,  3.10046857e+04,  2.98451199e+04,\n",
       "        6.23447738e+03,  8.29924900e+03,  1.59513656e+04,  1.18574731e+04,\n",
       "        1.29262816e+04,  3.97951421e+04,  1.16056445e+04,  1.29398213e+04,\n",
       "        5.35083012e+03,  3.38589315e+04,  6.10856597e+03,  4.05995792e+04,\n",
       "        1.46694552e+04,  3.18024311e+04,  1.54309994e+04,  4.50743269e+03,\n",
       "        7.31900922e+03,  1.14541347e+04,  1.11041413e+03,  1.43404601e+04,\n",
       "        1.03884808e+04,  7.34723754e+03,  3.18699537e+04,  3.30498529e+04,\n",
       "       -3.65497349e+02,  3.76053390e+03,  7.00154637e+03,  6.09512649e+03,\n",
       "        1.05130985e+04,  3.98552510e+03,  3.99105499e+02,  1.24013683e+04,\n",
       "        1.05454091e+04,  1.15971406e+04,  9.61570877e+03,  1.43649266e+02,\n",
       "        4.44138695e+03,  1.00938351e+04,  3.44631787e+03,  1.42731403e+04,\n",
       "        4.57875146e+02,  1.56497649e+04,  3.34760926e+04,  1.53977746e+04,\n",
       "        1.93339916e+03,  5.70655762e+03,  6.79539365e+03,  1.15695556e+04,\n",
       "        3.30227169e+04,  1.31167083e+04,  1.42469218e+02,  7.63995332e+03,\n",
       "       -1.01365464e+03,  4.30184165e+03,  3.63591658e+04,  1.64666660e+03,\n",
       "        3.98168047e+03,  2.97090880e+04,  5.46938412e+03,  1.24944108e+04,\n",
       "        3.23832964e+04,  6.33456350e+03,  1.77330578e+04,  1.31961756e+04,\n",
       "        3.90527746e+04,  5.97105881e+03,  7.92906839e+03,  2.85272581e+04,\n",
       "        3.06058834e+04,  1.04447512e+04,  1.19273717e+04,  7.67107053e+03,\n",
       "        3.30532968e+03,  9.65036119e+03,  6.32046342e+03,  7.04810943e+03,\n",
       "        4.71368484e+03,  2.29624849e+03,  1.09995417e+04,  3.07166649e+04,\n",
       "        3.73926341e+03, -4.10419002e+02,  2.33213810e+04,  3.17520243e+04])"
      ]
     },
     "execution_count": 66,
     "metadata": {},
     "output_type": "execute_result"
    }
   ],
   "source": [
    "predicted_y"
   ]
  },
  {
   "cell_type": "markdown",
   "metadata": {},
   "source": [
    "I will plot predicted insurance charges on y-axis and actual insurance charges on x-axis to see how they are closed. In order to assist in gauge how close they are, I will plot the identify function ($y = x$) as well. "
   ]
  },
  {
   "cell_type": "code",
   "execution_count": 67,
   "metadata": {},
   "outputs": [
    {
     "data": {
      "text/plain": [
       "Text(0, 0.5, 'Predicted insurance charge')"
      ]
     },
     "execution_count": 67,
     "metadata": {},
     "output_type": "execute_result"
    },
    {
     "data": {
      "image/png": "[encoded data removed]",
      "text/plain": [
       "<Figure size 720x720 with 1 Axes>"
      ]
     },
     "metadata": {
      "needs_background": "light"
     },
     "output_type": "display_data"
    }
   ],
   "source": [
    "#plot y_test vs predicted_y\n",
    "plt.subplots(figsize=(10,10))\n",
    "plt.scatter(y_test,predicted_y,color = 'black')\n",
    "x_1 = range(-100,40000,100)\n",
    "y_1 = range(-100,40000,100)\n",
    "plt.plot(x_1,y_1,color='red')\n",
    "plt.title('Actual Vs. Predicted',fontname = 'Times New Roman',fontsize=25)\n",
    "plt.xlabel('Actual insurance charge',fontname = 'Times New Roman',fontsize=18)\n",
    "plt.ylabel('Predicted insurance charge',fontname = 'Times New Roman',fontsize=18)"
   ]
  },
  {
   "cell_type": "markdown",
   "metadata": {},
   "source": [
    "# Project Summary \n",
    "\n",
    "1. Goal: To develop an effective model to predict one's insurance charge by using his/her health data\n",
    "\n",
    "\n",
    "\n",
    "2. Dataset: \n",
    "age, bmi, sex, number of children, region, smoker, charges are provided. (1338 rows x 7 columns)\n",
    "\n",
    "  a. Predictors: age, bmi, sex, number of children, region, smoker \n",
    "  b. Response: charges\n",
    "\n",
    "\n",
    "\n",
    "3. simple linear regression between each predictor and charges\n",
    "  a. age and insurance charges \n",
    "   - strong positive correlation ($r^2$ $\\approx$ 71%)\n",
    "   - linear regression equation: $y = 264.83x + 2862$\n",
    "   : We find that a 1 year increase is associated with an increase in charges by around $264.83 \n",
    "  \n",
    "  b. bmi and insurance charges  \n",
    "   - weak positive correlation ($r^2$ $\\approx$ 7.1%)\n",
    "   - linear regression equation: $y = 370.11x + 1992$\n",
    "   : BMI doesn't have a strong association with charges which is unexpected for me!\n",
    "   \n",
    "  c. sex and insurance charges \n",
    "   - near zero correlation ($r^2$ $\\approx$ 0.3%)\n",
    "   - linear regression equation: $y = -1387.17x + 13957$ (x being 0 for male 1 for female:binary variable)\n",
    "   : the correlation is extremely small, but statistically significant (p <.05)\n",
    "   \n",
    "  d. children and insurance charges \n",
    "   - near zero correlation ($r^2$ $\\approx$ 0.5%)\n",
    "   - linear regression equation: $y = 683.09x + 12522$ (x being 0 for male 1 for female:binary variable)\n",
    "   : simliar characteristic as the sex variable\n",
    "  \n",
    "  e. smoker and insurance charges\n",
    "   - strong positive correlation after the age variable ($r^2$ $\\approx$ 62%)\n",
    "   - linear regression equation: $y = 23615.96x + 8434$ (x being 0 for non-smoker 1 for smoker:binary variable)\n",
    "   : As expected, the effect of whether or not smoking (the coefficent = 23615.96) is huge. On average, if you are a smoker, you are paying $23615.96 more than non-smokers in insurance charege. What a waste! plus high price of cigaretts..<br>\n",
    "   \n",
    "   \n",
    "   \n",
    "4. Building a model: Multiple Linear Regression \n",
    "  a. All of the predictors were used because they are statistical significant and none of them have high correlations to each other (no multicollinearity)\n",
    "  b. The multiple linear regression\n",
    "  \n",
    "  $256.94 * age + 253.53* sex      + 337.67* bmi     + 552.84* children     + 23660.10*smoker - 845.43* southeast     + 56.31* northwest - 845.70* southwest - 12245.75$\n",
    "  \n",
    "  c. $r^2$ is 77.8%. The model is fairly effective "
   ]
  },
  {
   "cell_type": "code",
   "execution_count": null,
   "metadata": {},
   "outputs": [],
   "source": []
  },
  {
   "cell_type": "code",
   "execution_count": null,
   "metadata": {},
   "outputs": [],
   "source": []
  }
 ],
 "metadata": {
  "kernelspec": {
   "display_name": "Python 3",
   "language": "python",
   "name": "python3"
  },
  "language_info": {
   "codemirror_mode": {
    "name": "ipython",
    "version": 3
   },
   "file_extension": ".py",
   "mimetype": "text/x-python",
   "name": "python",
   "nbconvert_exporter": "python",
   "pygments_lexer": "ipython3",
   "version": "3.8.5"
  }
 },
 "nbformat": 4,
 "nbformat_minor": 2
}
